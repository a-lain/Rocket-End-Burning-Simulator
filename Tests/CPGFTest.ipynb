{
 "cells": [
  {
   "cell_type": "code",
   "execution_count": 1,
   "id": "north-gibson",
   "metadata": {},
   "outputs": [
    {
     "data": {
      "text/plain": []
     },
     "execution_count": 1,
     "metadata": {},
     "output_type": "execute_result"
    }
   ],
   "source": [
    ".L ../Build/Combustion.so"
   ]
  },
  {
   "cell_type": "code",
   "execution_count": 2,
   "id": "ultimate-applicant",
   "metadata": {},
   "outputs": [
    {
     "data": {
      "text/plain": []
     },
     "execution_count": 2,
     "metadata": {},
     "output_type": "execute_result"
    }
   ],
   "source": [
    "#include \"../CPGF/CPGF.hpp\"\n",
    "#include \"../Math/Interpolation.hpp\"\n",
    "#include \"../Math/Integration.hpp\"\n",
    "#include <iostream>\n",
    "#include <cmath>\n",
    "#include <vector>"
   ]
  },
  {
   "cell_type": "code",
   "execution_count": 3,
   "id": "extraordinary-sense",
   "metadata": {},
   "outputs": [
    {
     "data": {
      "text/plain": []
     },
     "execution_count": 3,
     "metadata": {},
     "output_type": "execute_result"
    }
   ],
   "source": [
    "using namespace CPGF::AffineSpace;"
   ]
  },
  {
   "cell_type": "code",
   "execution_count": 4,
   "id": "ad53424e",
   "metadata": {},
   "outputs": [
    {
     "data": {
      "text/plain": []
     },
     "execution_count": 4,
     "metadata": {},
     "output_type": "execute_result"
    }
   ],
   "source": [
    "using namespace CPGF::Basics;"
   ]
  },
  {
   "cell_type": "code",
   "execution_count": 5,
   "id": "9b629f58",
   "metadata": {},
   "outputs": [
    {
     "data": {
      "text/plain": []
     },
     "execution_count": 5,
     "metadata": {},
     "output_type": "execute_result"
    }
   ],
   "source": [
    "using namespace CPGF::Objects2d;"
   ]
  },
  {
   "cell_type": "code",
   "execution_count": 6,
   "id": "c399ef97",
   "metadata": {},
   "outputs": [
    {
     "data": {
      "text/plain": []
     },
     "execution_count": 6,
     "metadata": {},
     "output_type": "execute_result"
    }
   ],
   "source": [
    "using namespace CPGF::Plot2d;"
   ]
  },
  {
   "cell_type": "code",
   "execution_count": 7,
   "id": "4672747a",
   "metadata": {},
   "outputs": [
    {
     "data": {
      "text/plain": []
     },
     "execution_count": 7,
     "metadata": {},
     "output_type": "execute_result"
    }
   ],
   "source": [
    "using namespace CPGF;"
   ]
  },
  {
   "cell_type": "code",
   "execution_count": 8,
   "id": "0f3c13fc",
   "metadata": {},
   "outputs": [
    {
     "data": {
      "text/plain": []
     },
     "execution_count": 8,
     "metadata": {},
     "output_type": "execute_result"
    }
   ],
   "source": [
    "using namespace Math;"
   ]
  },
  {
   "cell_type": "code",
   "execution_count": 9,
   "id": "0265aedc",
   "metadata": {},
   "outputs": [
    {
     "name": "stdout",
     "output_type": "stream",
     "text": [
      "P(1.000000, 0.000000)"
     ]
    },
    {
     "data": {
      "text/plain": []
     },
     "execution_count": 9,
     "metadata": {},
     "output_type": "execute_result"
    }
   ],
   "source": [
    "{\n",
    "    Point2d A(1,0);\n",
    "    std::cout << A.to_string();\n",
    "}"
   ]
  },
  {
   "cell_type": "code",
   "execution_count": 10,
   "id": "5481c765",
   "metadata": {},
   "outputs": [
    {
     "data": {
      "text/plain": []
     },
     "execution_count": 10,
     "metadata": {},
     "output_type": "execute_result"
    }
   ],
   "source": [
    "{\n",
    "    StraightStroke2d stroke(std::vector<Point2d>({Point2d(0,0), Point2d(1,0)}));\n",
    "    Path2d a(stroke);\n",
    "}"
   ]
  },
  {
   "cell_type": "code",
   "execution_count": 11,
   "id": "1fd25169",
   "metadata": {},
   "outputs": [
    {
     "name": "stdout",
     "output_type": "stream",
     "text": [
      "\\begin{pgfscope}\n",
      "\\pgfsetbuttcap\n",
      "\\pgfsetbeveljoin\n",
      "\\definecolor{tempcolor}{rgb}{0.000000, 0.000000, 0.000000}\n",
      "\\pgfsetcolor{tempcolor}\n",
      "\\pgfsetstrokeopacity{1.000000}\n",
      "\\pgfsetlinewidth{0.200000cm}\n",
      "\\pgfpathmoveto{\\pgfpoint{0.000000cm}{0.000000cm}}\n",
      "\\pgfpathlineto{\\pgfpoint{0.000000cm}{0.000000cm}}\n",
      "\\pgfpathlineto{\\pgfpoint{1.000000cm}{0.000000cm}}\n",
      "\\pgfusepath{draw}\n",
      "\\end{pgfscope}\n"
     ]
    },
    {
     "data": {
      "text/plain": []
     },
     "execution_count": 11,
     "metadata": {},
     "output_type": "execute_result"
    }
   ],
   "source": [
    "{\n",
    "    std::cout << Line(Point2d(0,0), Point2d(1,0)).render_to_string();\n",
    "}"
   ]
  },
  {
   "cell_type": "code",
   "execution_count": 12,
   "id": "4f7594ad",
   "metadata": {},
   "outputs": [
    {
     "name": "stdout",
     "output_type": "stream",
     "text": [
      "\\documentclass[margin=1mm]{standalone}\n",
      "\\usepackage{pgf}\n",
      "\\usepackage{amssymb}\n",
      "\\begin{document}\n",
      "\\begin{pgfpicture}\n",
      "\\begin{pgfscope}\n",
      "\\pgfsetbuttcap\n",
      "\\pgfsetbeveljoin\n",
      "\\definecolor{tempcolor}{rgb}{0.000000, 0.000000, 0.000000}\n",
      "\\pgfsetcolor{tempcolor}\n",
      "\\pgfsetstrokeopacity{1.000000}\n",
      "\\pgfsetlinewidth{0.200000cm}\n",
      "\\pgfpathmoveto{\\pgfpoint{0.000000cm}{0.000000cm}}\n",
      "\\pgfpathlineto{\\pgfpoint{0.000000cm}{0.000000cm}}\n",
      "\\pgfpathlineto{\\pgfpoint{1.000000cm}{0.000000cm}}\n",
      "\\pgfusepath{draw}\n",
      "\\end{pgfscope}\n",
      "\\end{pgfpicture}\n",
      "\\end{document}\n"
     ]
    },
    {
     "data": {
      "text/plain": []
     },
     "execution_count": 12,
     "metadata": {},
     "output_type": "execute_result"
    }
   ],
   "source": [
    "{\n",
    "    Line l1(Point2d(0,0), Point2d(1,0));\n",
    "    Scene2d S(std::vector<Object2d*>({&l1}));\n",
    "    std::cout << S.render_to_string();\n",
    "}"
   ]
  },
  {
   "cell_type": "code",
   "execution_count": 13,
   "id": "c0eea7d2",
   "metadata": {
    "scrolled": true
   },
   "outputs": [
    {
     "name": "stderr",
     "output_type": "stream",
     "text": [
      "convert: profile 'icc': 'RGB ': RGB color space not permitted on grayscale PNG `prueba.png' @ warning/png.c/MagickPNGWarningHandler/1748.\n"
     ]
    },
    {
     "data": {
      "text/plain": []
     },
     "execution_count": 13,
     "metadata": {},
     "output_type": "execute_result"
    }
   ],
   "source": [
    "{\n",
    "    Line l1(Point2d(0,0), Point2d(1,0));\n",
    "    Scene2d S(std::vector<Object2d*>({&l1}));\n",
    "    S.render(\"prueba.png\");\n",
    "}"
   ]
  },
  {
   "cell_type": "code",
   "execution_count": 14,
   "id": "468629b7",
   "metadata": {
    "scrolled": true
   },
   "outputs": [
    {
     "data": {
      "text/plain": []
     },
     "execution_count": 14,
     "metadata": {},
     "output_type": "execute_result"
    }
   ],
   "source": [
    "{\n",
    "    Line l1(Point2d(0,0), Point2d(1,0));\n",
    "    Scene2d S(std::vector<Object2d*>({&l1}));\n",
    "    S.render(\"prueba.pdf\");\n",
    "}"
   ]
  },
  {
   "cell_type": "code",
   "execution_count": null,
   "id": "a2eadd42",
   "metadata": {},
   "outputs": [],
   "source": []
  },
  {
   "cell_type": "markdown",
   "id": "537970e7",
   "metadata": {},
   "source": [
    "Tets más intersantes"
   ]
  },
  {
   "cell_type": "code",
   "execution_count": 15,
   "id": "7981dd09",
   "metadata": {},
   "outputs": [
    {
     "data": {
      "text/plain": []
     },
     "execution_count": 15,
     "metadata": {},
     "output_type": "execute_result"
    }
   ],
   "source": [
    "{\n",
    "    Line l1(std::vector<Point2d>({Point2d(0,0), Point2d(50,0), Point2d(25,25), Point2d(0,0)}),\n",
    "        Color::BLUE, 1, LineWidth::SEMITHICK, DashPatterns::SOLID);\n",
    "    Scene2d S(std::vector<Object2d*>({&l1}));\n",
    "    S.render(\"prueba.pdf\");\n",
    "}"
   ]
  },
  {
   "cell_type": "code",
   "execution_count": 16,
   "id": "cbc83e51",
   "metadata": {},
   "outputs": [
    {
     "data": {
      "text/plain": []
     },
     "execution_count": 16,
     "metadata": {},
     "output_type": "execute_result"
    }
   ],
   "source": [
    "{\n",
    "    Circle C1(Point2d(0,0), 10, true, false, Color::RED,\n",
    "        Color::PALE_VIOLET_RED, 1, LineWidth::SEMITHICK, DashPatterns::SOLID);\n",
    "    Scene2d S(std::vector<Object2d*>({&C1}));\n",
    "    S.render(\"prueba.pdf\");\n",
    "}"
   ]
  },
  {
   "cell_type": "code",
   "execution_count": 17,
   "id": "1fb2f90c",
   "metadata": {},
   "outputs": [
    {
     "data": {
      "text/plain": []
     },
     "execution_count": 17,
     "metadata": {},
     "output_type": "execute_result"
    }
   ],
   "source": [
    "{\n",
    "    Circle C1(Point2d(0,0), 1.1, true, true, Color::RED,\n",
    "        Color::PALE_VIOLET_RED, 1, LineWidth::SEMITHICK, DashPatterns::SOLID);\n",
    "    Text t1(Point2d(0,0), R\"($\\displaystyle\\int_0^{\\varphi}f\\left(x\\right)\\mathrm{d}x$)\", Color::WHITE);\n",
    "    Scene2d S(std::vector<Object2d*>({&C1}), std::vector<Text*>({&t1}));\n",
    "    S.render(\"prueba.pdf\");\n",
    "}"
   ]
  },
  {
   "cell_type": "code",
   "execution_count": 18,
   "id": "4fedcf1b",
   "metadata": {},
   "outputs": [
    {
     "data": {
      "text/plain": []
     },
     "execution_count": 18,
     "metadata": {},
     "output_type": "execute_result"
    }
   ],
   "source": [
    "{\n",
    "    Arrow a1(Point2d(0,0), Point2d(10,0));\n",
    "    Scene2d S(std::vector<Object2d*>({&a1}));\n",
    "    S.render(\"prueba.pdf\");\n",
    "}"
   ]
  },
  {
   "cell_type": "code",
   "execution_count": null,
   "id": "5fe25d4a",
   "metadata": {},
   "outputs": [],
   "source": []
  },
  {
   "cell_type": "markdown",
   "id": "1eca42a8",
   "metadata": {},
   "source": [
    "Tests de gráficas"
   ]
  },
  {
   "cell_type": "code",
   "execution_count": 19,
   "id": "50a51e6d",
   "metadata": {
    "scrolled": false
   },
   "outputs": [
    {
     "data": {
      "text/plain": []
     },
     "execution_count": 19,
     "metadata": {},
     "output_type": "execute_result"
    }
   ],
   "source": [
    "{\n",
    "    std::vector<double> Y1;\n",
    "    std::vector<double> Y2;\n",
    "    std::vector<double> X;\n",
    "    unsigned int N = 50;\n",
    "    double delta_x = 2*M_PI/(N-1);\n",
    "    double x = 0;\n",
    "    for (unsigned int i = 0; i < N; ++i)\n",
    "    {\n",
    "        X.push_back(1e4*x);\n",
    "        Y1.push_back(1e4*sin(x));\n",
    "        Y2.push_back(1e4*cos(x));\n",
    "        x += delta_x;\n",
    "    }\n",
    "    \n",
    "    Axis aX(AxisType::HORIZONTAL, \"$x$\");\n",
    "    Axis aY(AxisType::VERTICAL, \"$f(x)$\");\n",
    "    DataPlot g1(Y1, X);\n",
    "    DataPlot g2(Y2, X, Color::RED);\n",
    "    Graphic G;\n",
    "    G.add(&g1, &aY, &aX);\n",
    "    G.add(&g2, &aY, &aX);\n",
    "    aY.set_max_value(10000);\n",
    "    aY.set_min_value(-10000);\n",
    "    G.render_to_scene().render(\"G1.pdf\");\n",
    "}"
   ]
  },
  {
   "cell_type": "code",
   "execution_count": 20,
   "id": "22e3b9b3",
   "metadata": {},
   "outputs": [
    {
     "data": {
      "text/plain": []
     },
     "execution_count": 20,
     "metadata": {},
     "output_type": "execute_result"
    }
   ],
   "source": [
    "{\n",
    "    std::vector<double> Y1;\n",
    "    std::vector<double> Y2;\n",
    "    std::vector<double> X;\n",
    "    unsigned int N = 50;\n",
    "    double delta_x = 2*M_PI/(N-1);\n",
    "    double x = 0;\n",
    "    for (unsigned int i = 0; i < N; ++i)\n",
    "    {\n",
    "        X.push_back(x);\n",
    "        Y1.push_back(sin(x));\n",
    "        Y2.push_back(cos(x));\n",
    "        x += delta_x;\n",
    "    }\n",
    "    \n",
    "    Axis aX(AxisType::HORIZONTAL, \"$x$\");\n",
    "    Axis aY(AxisType::VERTICAL, \"$f(x)$\");\n",
    "    DataPlot g1(Y1, X);\n",
    "    DataPlot g2(Y2, X, Color::RED);\n",
    "    Graphic G;\n",
    "    G.add(&g1, &aY, &aX);\n",
    "    G.add(&g2, &aY, &aX);\n",
    "    aY.set_max_value(1);\n",
    "    aY.set_min_value(-1);\n",
    "    G.render_to_scene().render(\"G2.pdf\");\n",
    "}"
   ]
  },
  {
   "cell_type": "code",
   "execution_count": 21,
   "id": "b564c5d8",
   "metadata": {},
   "outputs": [
    {
     "data": {
      "text/plain": []
     },
     "execution_count": 21,
     "metadata": {},
     "output_type": "execute_result"
    }
   ],
   "source": [
    "{\n",
    "    std::vector<double> Y1;\n",
    "    std::vector<double> Y2;\n",
    "    std::vector<double> X;\n",
    "    unsigned int N = 50;\n",
    "    double delta_x = 2*M_PI/(N-1);\n",
    "    double x = 0;\n",
    "    for (unsigned int i = 0; i < N; ++i)\n",
    "    {\n",
    "        X.push_back(x);\n",
    "        Y1.push_back(sin(x));\n",
    "        Y2.push_back(cos(x));\n",
    "        x += delta_x;\n",
    "    }\n",
    "    \n",
    "    Axis aX(AxisType::HORIZONTAL, \"$x$\");\n",
    "    Axis aY(AxisType::VERTICAL, \"$f(x)$\");\n",
    "    DataPlot g1(Y1, X);\n",
    "    g1.legend = \"$\\\\sin(x)$\";\n",
    "    DataPlot g2(Y2, X, Color::RED);\n",
    "    g2.legend = \"$\\\\cos(x)$\";\n",
    "    Graphic G;\n",
    "    G.show_legend = true;\n",
    "    G.add(&g1, &aY, &aX);\n",
    "    G.add(&g2, &aY, &aX);\n",
    "    aY.set_max_value(1);\n",
    "    aY.set_min_value(-1);\n",
    "    G.render_to_scene().render(\"G3.pdf\");\n",
    "}"
   ]
  },
  {
   "cell_type": "code",
   "execution_count": 22,
   "id": "bdae956a",
   "metadata": {},
   "outputs": [
    {
     "data": {
      "text/plain": []
     },
     "execution_count": 22,
     "metadata": {},
     "output_type": "execute_result"
    }
   ],
   "source": [
    "{\n",
    "    std::vector<double> Y1;\n",
    "    std::vector<double> Y2;\n",
    "    std::vector<double> X;\n",
    "    unsigned int N = 50;\n",
    "    double delta_x = 2*M_PI/(N-1);\n",
    "    double x = 0;\n",
    "    for (unsigned int i = 0; i < N; ++i)\n",
    "    {\n",
    "        X.push_back(x);\n",
    "        Y1.push_back(sin(x));\n",
    "        Y2.push_back(cos(x));\n",
    "        x += delta_x;\n",
    "    }\n",
    "    \n",
    "    Axis aX(AxisType::HORIZONTAL, \"$x$\");\n",
    "    Axis aY(AxisType::VERTICAL, \"$f(x)$\");\n",
    "    DataPlot g1(Y1, X);\n",
    "    g1.legend = \"$\\\\sin(x)$\";\n",
    "    DataPlot g2(Y2, X, Color::RED);\n",
    "    g2.legend = \"$\\\\cos(x)$\";\n",
    "    Graphic G;\n",
    "    G.show_legend = true;\n",
    "    G.add(&g1, &aY, &aX);\n",
    "    G.add(&g2, &aY, &aX);\n",
    "    aY.set_max_value(1);\n",
    "    aY.set_min_value(-1);\n",
    "    \n",
    "    aX.show_major_grid_lines = true;\n",
    "    aX.show_medium_grid_lines = true;\n",
    "    aX.show_small_grid_lines = true;\n",
    "    aY.show_major_grid_lines = true;\n",
    "    aY.show_medium_grid_lines = true;\n",
    "    aY.show_small_grid_lines = true;\n",
    "    \n",
    "    G.render_to_scene().render(\"G4.pdf\");\n",
    "}"
   ]
  },
  {
   "cell_type": "code",
   "execution_count": 23,
   "id": "0148102e",
   "metadata": {},
   "outputs": [
    {
     "data": {
      "text/plain": []
     },
     "execution_count": 23,
     "metadata": {},
     "output_type": "execute_result"
    }
   ],
   "source": [
    "{\n",
    "    std::vector<double> Y;\n",
    "    std::vector<double> X;\n",
    "    unsigned int N = 50;\n",
    "    double delta_x = 10000./(N-1);\n",
    "    double x = 1;\n",
    "    for (unsigned int i = 0; i < N; ++i)\n",
    "    {\n",
    "        X.push_back(x);\n",
    "        Y.push_back(sqrt(x));\n",
    "        x += delta_x;\n",
    "    }\n",
    "    \n",
    "    Axis aX(AxisType::HORIZONTAL, \"$x$\");\n",
    "    Axis aY(AxisType::VERTICAL, \"$\\\\sqrt{x}$\");\n",
    "    DataPlot g(Y,X);\n",
    "    Graphic G;\n",
    "    G.add(&g, &aY, &aX);    \n",
    "    aX.axis_scale = AxisScale::LOG;\n",
    "    aY.axis_scale = AxisScale::LOG;\n",
    "    G.render_to_scene().render(\"G5.pdf\");\n",
    "}"
   ]
  },
  {
   "cell_type": "code",
   "execution_count": 24,
   "id": "273c474b",
   "metadata": {},
   "outputs": [
    {
     "data": {
      "text/plain": []
     },
     "execution_count": 24,
     "metadata": {},
     "output_type": "execute_result"
    }
   ],
   "source": [
    "{\n",
    "    std::vector<double> Y;\n",
    "    std::vector<double> X;\n",
    "    unsigned int N = 50;\n",
    "    double delta_x = 10000./(N-1);\n",
    "    double x = 1;\n",
    "    for (unsigned int i = 0; i < N; ++i)\n",
    "    {\n",
    "        X.push_back(x);\n",
    "        Y.push_back(sqrt(x));\n",
    "        x += delta_x;\n",
    "    }\n",
    "    \n",
    "    Axis aX(AxisType::HORIZONTAL, \"$x$\");\n",
    "    Axis aY(AxisType::VERTICAL, \"$\\\\sqrt{x}$\");\n",
    "    DataPlot g(Y,X);\n",
    "    Graphic G;\n",
    "    G.add(&g, &aY, &aX);    \n",
    "    aX.axis_scale = AxisScale::LOG;\n",
    "    aY.axis_scale = AxisScale::LOG;\n",
    "    \n",
    "    aX.show_major_grid_lines = true;\n",
    "    aX.show_medium_grid_lines = true;\n",
    "    aX.show_small_grid_lines = true;\n",
    "    aY.show_major_grid_lines = true;\n",
    "    aY.show_medium_grid_lines = true;\n",
    "    aY.show_small_grid_lines = true;\n",
    "    \n",
    "    G.render_to_scene().render(\"G6.pdf\");\n",
    "}"
   ]
  },
  {
   "cell_type": "code",
   "execution_count": 25,
   "id": "20319c84",
   "metadata": {},
   "outputs": [
    {
     "data": {
      "text/plain": []
     },
     "execution_count": 25,
     "metadata": {},
     "output_type": "execute_result"
    }
   ],
   "source": [
    "{\n",
    "    std::vector<double> Y1;\n",
    "    std::vector<double> Y2;\n",
    "    std::vector<double> X;\n",
    "    unsigned int N = 100;\n",
    "    double delta_x = 2*M_PI/(N-1);\n",
    "    double x = 0;\n",
    "    for (unsigned int i = 0; i < N; ++i)\n",
    "    {\n",
    "        X.push_back(x);\n",
    "        Y1.push_back(sin(x));\n",
    "        Y2.push_back(cos(x));\n",
    "        x += delta_x;\n",
    "    }\n",
    "    \n",
    "    Axis aX(AxisType::HORIZONTAL, \"$x$\");\n",
    "    Axis aY(AxisType::VERTICAL, \"$f(x)$\");\n",
    "    LinePlot g1(Y1, X);\n",
    "    LinePlot g2(Y2, X, Color::RED, LineWidth::THIN, 1, DashPatterns::DASHED);\n",
    "    g1.legend = \"$\\\\sin(x)$\";\n",
    "    g2.legend = \"$\\\\cos(x)$\";\n",
    "    Graphic G;\n",
    "    G.show_legend = true;\n",
    "    G.add(&g1, &aY, &aX);\n",
    "    G.add(&g2, &aY, &aX);\n",
    "    aY.set_max_value(1);\n",
    "    aY.set_min_value(-1);\n",
    "    G.render_to_scene().render(\"G7.pdf\");\n",
    "}"
   ]
  },
  {
   "cell_type": "code",
   "execution_count": 26,
   "id": "25b1941b",
   "metadata": {},
   "outputs": [
    {
     "data": {
      "text/plain": []
     },
     "execution_count": 26,
     "metadata": {},
     "output_type": "execute_result"
    }
   ],
   "source": [
    "{\n",
    "    std::vector<double> Y1;\n",
    "    std::vector<double> Y2;\n",
    "    std::vector<double> X;\n",
    "    unsigned int N = 100;\n",
    "    double delta_x = 2*M_PI/(N-1);\n",
    "    double x = 0;\n",
    "    for (unsigned int i = 0; i < N; ++i)\n",
    "    {\n",
    "        X.push_back(x);\n",
    "        Y1.push_back(sin(x));\n",
    "        Y2.push_back(cos(x));\n",
    "        x += delta_x;\n",
    "    }\n",
    "    \n",
    "    Axis aX(AxisType::HORIZONTAL, \"$x$\");\n",
    "    Axis aY(AxisType::VERTICAL, \"$f(x)$\");\n",
    "    LinePlot g1(Y1, X);\n",
    "    LinePlot g2(Y2, X, Color::RED, LineWidth::THIN, 1, DashPatterns::DOTTED);\n",
    "    g1.legend = \"$\\\\sin(x)$\";\n",
    "    g2.legend = \"$\\\\cos(x)$\";\n",
    "    Graphic G;\n",
    "    G.show_legend = true;\n",
    "    G.add(&g1, &aY, &aX);\n",
    "    G.add(&g2, &aY, &aX);\n",
    "    aY.set_max_value(1);\n",
    "    aY.set_min_value(-1);\n",
    "    G.render_to_scene().render(\"G8.pdf\");\n",
    "}"
   ]
  },
  {
   "cell_type": "code",
   "execution_count": null,
   "id": "6377392b",
   "metadata": {},
   "outputs": [],
   "source": []
  },
  {
   "cell_type": "markdown",
   "id": "217836c5",
   "metadata": {},
   "source": [
    "Gráficas promedio"
   ]
  },
  {
   "cell_type": "code",
   "execution_count": 27,
   "id": "63806ce9",
   "metadata": {},
   "outputs": [
    {
     "data": {
      "text/plain": []
     },
     "execution_count": 27,
     "metadata": {},
     "output_type": "execute_result"
    }
   ],
   "source": [
    "{\n",
    "    auto f = [] (double x){return sin(x);};\n",
    "    double x_min = 0;\n",
    "    double x_max = 2*M_PI;\n",
    "        \n",
    "    std::vector<double> Y;\n",
    "    std::vector<double> X;\n",
    "    unsigned int N_f = 100;\n",
    "    double delta_x = (x_max - x_min)/(N_f-1);\n",
    "    double x = x_min;\n",
    "    for (unsigned int i = 0; i < N_f; ++i)\n",
    "    {\n",
    "        X.push_back(x);\n",
    "        Y.push_back(f(x));\n",
    "        x += delta_x;\n",
    "    }\n",
    "    \n",
    "    unsigned int N_cells = 15;\n",
    "    std::vector<double> averages;\n",
    "    std::vector<double> partition;\n",
    "    delta_x = (x_max - x_min)/N_cells;\n",
    "    x = x_min;\n",
    "    for (unsigned int i = 0; i < N_cells; ++i)\n",
    "    {\n",
    "        averages.push_back(Gauss_Konrad_G7_K15(f, x, x + delta_x) / delta_x);\n",
    "        partition.push_back(x);\n",
    "        x += delta_x;\n",
    "    }\n",
    "    partition.push_back(x);\n",
    "    \n",
    "    AverageQuadraticInterpolation interp(averages, partition);\n",
    "    std::vector<double> Yi;\n",
    "    delta_x = (x_max - x_min)/(N_f-1);\n",
    "    x = x_min;\n",
    "    for (unsigned int i = 0; i < N_f; ++i)\n",
    "    {\n",
    "        Yi.push_back(interp(x));\n",
    "        // std::cout << \"x = \" << x << \", y = \" << Y[i] << \", interp[i] = \" << interp(x) << \"\\n\";\n",
    "        x += delta_x;\n",
    "    }\n",
    "    \n",
    "    Axis aX(AxisType::HORIZONTAL, \"$x$\");\n",
    "    Axis aY(AxisType::VERTICAL, \"$f(x)$\");\n",
    "    LinePlot g1(Y, X);\n",
    "    AveragePlot g2(averages, partition, Color::RED);\n",
    "    LinePlot g3(Yi, X, Color::GREEN);\n",
    "    g1.legend = \"$\\\\sin(x)$\";\n",
    "    g2.legend = \"$\\\\overline{\\\\sin(x)}$\";\n",
    "    // g3.legend = \"interpolación\";\n",
    "    Graphic G;\n",
    "    G.show_legend = true;\n",
    "    G.add(&g1, &aY, &aX);\n",
    "    G.add(&g2, &aY, &aX);\n",
    "    G.add(&g3, &aY, &aX);\n",
    "    G.render_to_scene().render(\"G9.pdf\");\n",
    "}"
   ]
  },
  {
   "cell_type": "code",
   "execution_count": 28,
   "id": "66856bf2",
   "metadata": {},
   "outputs": [
    {
     "data": {
      "text/plain": []
     },
     "execution_count": 28,
     "metadata": {},
     "output_type": "execute_result"
    }
   ],
   "source": [
    "{\n",
    "    auto f = [] (double x){return (x>=1./2) ? 1 : 0;};\n",
    "    double x_min = 0;\n",
    "    double x_max = 1;\n",
    "        \n",
    "    std::vector<double> Y;\n",
    "    std::vector<double> X;\n",
    "    unsigned int N_f = 500;\n",
    "    double delta_x = (x_max - x_min)/(N_f-1);\n",
    "    double x = x_min;\n",
    "    for (unsigned int i = 0; i < N_f; ++i)\n",
    "    {\n",
    "        X.push_back(x);\n",
    "        Y.push_back(f(x));\n",
    "        x += delta_x;\n",
    "    }\n",
    "    \n",
    "    unsigned int N_cells = 30;\n",
    "    std::vector<double> averages;\n",
    "    std::vector<double> partition;\n",
    "    delta_x = (x_max - x_min)/N_cells;\n",
    "    x = x_min;\n",
    "    for (unsigned int i = 0; i < N_cells; ++i)\n",
    "    {\n",
    "        averages.push_back(Gauss_Konrad_G7_K15(f, x, x + delta_x) / delta_x);\n",
    "        partition.push_back(x);\n",
    "        x += delta_x;\n",
    "    }\n",
    "    partition.push_back(x);\n",
    "    \n",
    "    AverageQuadraticInterpolation interp(averages, partition);\n",
    "    std::vector<double> Yi;\n",
    "    delta_x = (x_max - x_min)/(N_f-1);\n",
    "    x = x_min;\n",
    "    for (unsigned int i = 0; i < N_f; ++i)\n",
    "    {\n",
    "        Yi.push_back(interp(x));\n",
    "        // std::cout << \"x = \" << x << \", y = \" << Y[i] << \", interp[i] = \" << interp(x) << \"\\n\";\n",
    "        x += delta_x;\n",
    "    }\n",
    "    \n",
    "    Axis aX(AxisType::HORIZONTAL, \"$x$\");\n",
    "    Axis aY(AxisType::VERTICAL, \"$f(x)$\");\n",
    "    LinePlot g1(Y, X);\n",
    "    LinePlot g3(Yi, X, Color::GREEN);\n",
    "    g1.legend = \"$H(x)$\";\n",
    "    g3.legend = \"interpolación\";\n",
    "    Graphic G;\n",
    "    G.show_legend = true;\n",
    "    G.add(&g1, &aY, &aX);\n",
    "    G.add(&g3, &aY, &aX);\n",
    "    G.render_to_scene().render(\"G10.pdf\");\n",
    "}"
   ]
  },
  {
   "cell_type": "code",
   "execution_count": 29,
   "id": "5ed5a601",
   "metadata": {},
   "outputs": [
    {
     "data": {
      "text/plain": []
     },
     "execution_count": 29,
     "metadata": {},
     "output_type": "execute_result"
    }
   ],
   "source": [
    "{\n",
    "    auto f = [] (double x){return sin(x);};\n",
    "    double x_min = 0;\n",
    "    double x_max = 2*M_PI;\n",
    "        \n",
    "    std::vector<double> Y;\n",
    "    std::vector<double> X;\n",
    "    unsigned int N_f = 500;\n",
    "    double delta_x = (x_max - x_min)/(N_f-1);\n",
    "    double x = x_min;\n",
    "    for (unsigned int i = 0; i < N_f; ++i)\n",
    "    {\n",
    "        X.push_back(x);\n",
    "        Y.push_back(f(x));\n",
    "        x += delta_x;\n",
    "    }\n",
    "    \n",
    "    unsigned int N_cells = 15;\n",
    "    std::vector<double> averages;\n",
    "    std::vector<double> partition;\n",
    "    delta_x = (x_max - x_min)/N_cells;\n",
    "    x = x_min;\n",
    "    for (unsigned int i = 0; i < N_cells; ++i)\n",
    "    {\n",
    "        averages.push_back(Gauss_Konrad_G7_K15(f, x, x + delta_x) / delta_x);\n",
    "        partition.push_back(x);\n",
    "        x += delta_x;\n",
    "    }\n",
    "    partition.push_back(x);\n",
    "    \n",
    "    AverageLinearInterpolation interp(averages, partition);\n",
    "    std::vector<double> Yi;\n",
    "    delta_x = (x_max - x_min)/(N_f-1);\n",
    "    x = x_min;\n",
    "    for (unsigned int i = 0; i < N_f; ++i)\n",
    "    {\n",
    "        Yi.push_back(interp(x));\n",
    "        // std::cout << \"x = \" << x << \", y = \" << Y[i] << \", interp[i] = \" << interp(x) << \"\\n\";\n",
    "        x += delta_x;\n",
    "    }\n",
    "    \n",
    "    Axis aX(AxisType::HORIZONTAL, \"$x$\");\n",
    "    Axis aY(AxisType::VERTICAL, \"$f(x)$\");\n",
    "    LinePlot g1(Y, X);\n",
    "    AveragePlot g2(averages, partition, Color::RED);\n",
    "    LinePlot g3(Yi, X, Color::GREEN);\n",
    "    g1.legend = \"$\\\\sin(x)$\";\n",
    "    g2.legend = \"$\\\\overline{\\\\sin(x)}$\";\n",
    "    // g3.legend = \"interpolación\";\n",
    "    Graphic G;\n",
    "    G.show_legend = true;\n",
    "    G.add(&g1, &aY, &aX);\n",
    "    G.add(&g2, &aY, &aX);\n",
    "    G.add(&g3, &aY, &aX);\n",
    "    G.render_to_scene().render(\"G11.pdf\");\n",
    "}"
   ]
  },
  {
   "cell_type": "code",
   "execution_count": 30,
   "id": "c0499213",
   "metadata": {},
   "outputs": [
    {
     "data": {
      "text/plain": []
     },
     "execution_count": 30,
     "metadata": {},
     "output_type": "execute_result"
    }
   ],
   "source": [
    "{\n",
    "    auto f = [] (double x){return (x>=1./2) ? 1 : 0;};\n",
    "    double x_min = 0;\n",
    "    double x_max = 1;\n",
    "        \n",
    "    std::vector<double> Y;\n",
    "    std::vector<double> X;\n",
    "    unsigned int N_f = 500;\n",
    "    double delta_x = (x_max - x_min)/(N_f-1);\n",
    "    double x = x_min;\n",
    "    for (unsigned int i = 0; i < N_f; ++i)\n",
    "    {\n",
    "        X.push_back(x);\n",
    "        Y.push_back(f(x));\n",
    "        x += delta_x;\n",
    "    }\n",
    "    \n",
    "    unsigned int N_cells = 30;\n",
    "    std::vector<double> averages;\n",
    "    std::vector<double> partition;\n",
    "    delta_x = (x_max - x_min)/N_cells;\n",
    "    x = x_min;\n",
    "    for (unsigned int i = 0; i < N_cells; ++i)\n",
    "    {\n",
    "        averages.push_back(Gauss_Konrad_G7_K15(f, x, x + delta_x) / delta_x);\n",
    "        partition.push_back(x);\n",
    "        x += delta_x;\n",
    "    }\n",
    "    partition.push_back(x);\n",
    "    \n",
    "    AverageLinearInterpolation interp(averages, partition);\n",
    "    std::vector<double> Yi;\n",
    "    delta_x = (x_max - x_min)/(N_f-1);\n",
    "    x = x_min;\n",
    "    for (unsigned int i = 0; i < N_f; ++i)\n",
    "    {\n",
    "        Yi.push_back(interp(x));\n",
    "        // std::cout << \"x = \" << x << \", y = \" << Y[i] << \", interp[i] = \" << interp(x) << \"\\n\";\n",
    "        x += delta_x;\n",
    "    }\n",
    "    \n",
    "    Axis aX(AxisType::HORIZONTAL, \"$x$\");\n",
    "    Axis aY(AxisType::VERTICAL, \"$f(x)$\");\n",
    "    LinePlot g1(Y, X);\n",
    "    LinePlot g3(Yi, X, Color::GREEN);\n",
    "    g1.legend = \"$H(x)$\";\n",
    "    g3.legend = \"interpolación\";\n",
    "    Graphic G;\n",
    "    G.show_legend = true;\n",
    "    G.add(&g1, &aY, &aX);\n",
    "    G.add(&g3, &aY, &aX);\n",
    "    G.render_to_scene().render(\"G12.pdf\");\n",
    "}"
   ]
  },
  {
   "cell_type": "markdown",
   "id": "6303a8e3",
   "metadata": {},
   "source": [
    "Una gráfica para el TFG. Solucionador Euler estacioniario."
   ]
  },
  {
   "cell_type": "code",
   "execution_count": 16,
   "id": "b9fb48e9",
   "metadata": {},
   "outputs": [
    {
     "data": {
      "text/plain": []
     },
     "execution_count": 16,
     "metadata": {},
     "output_type": "execute_result"
    }
   ],
   "source": [
    "{\n",
    "    double gamma = 1.4;\n",
    "    auto f = [=] (double M)\n",
    "    {\n",
    "        return M / pow(1+(gamma-1)/2*M*M, (gamma+1)/(2*(gamma-1)));\n",
    "    };\n",
    "    unsigned int N_points = 300;\n",
    "    double x = 0;\n",
    "    double delta_x = 3. / (N_points-1);\n",
    "    std::vector<double> X;\n",
    "    std::vector<double> Y;\n",
    "    for (unsigned int i = 0; i < N_points; i++)\n",
    "    {\n",
    "        X.push_back(x);\n",
    "        Y.push_back(f(x));\n",
    "        x += delta_x;\n",
    "    }\n",
    "    \n",
    "    LinePlot g(Y, X);\n",
    "    Axis Y_axis(AxisType::VERTICAL, \"$f(M)$\");\n",
    "    Axis X_axis(AxisType::HORIZONTAL, \"$M$\");\n",
    "    Graphic G;\n",
    "    G.add(&g, &Y_axis, &X_axis);\n",
    "    G.render_to_scene().render(\"fM.pdf\");\n",
    "}"
   ]
  },
  {
   "cell_type": "code",
   "execution_count": null,
   "id": "679589ad",
   "metadata": {},
   "outputs": [],
   "source": []
  }
 ],
 "metadata": {
  "kernelspec": {
   "display_name": "C++14",
   "language": "C++",
   "name": "cling-cpp14"
  },
  "language_info": {
   "codemirror_mode": "c++",
   "file_extension": ".c++",
   "mimetype": "text/x-c++src",
   "name": "c++"
  }
 },
 "nbformat": 4,
 "nbformat_minor": 5
}
