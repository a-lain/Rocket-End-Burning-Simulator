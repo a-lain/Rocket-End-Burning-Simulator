{
 "cells": [
  {
   "cell_type": "code",
   "execution_count": 1,
   "id": "north-gibson",
   "metadata": {},
   "outputs": [
    {
     "data": {
      "text/plain": []
     },
     "execution_count": 1,
     "metadata": {},
     "output_type": "execute_result"
    }
   ],
   "source": [
    ".L ../Build/Combustion.so"
   ]
  },
  {
   "cell_type": "code",
   "execution_count": 2,
   "id": "ultimate-applicant",
   "metadata": {},
   "outputs": [
    {
     "data": {
      "text/plain": []
     },
     "execution_count": 2,
     "metadata": {},
     "output_type": "execute_result"
    }
   ],
   "source": [
    "#include \"../Math/AlgebraicSolvers.hpp\"\n",
    "#include \"../Math/DualNumbers.hpp\"\n",
    "#include \"../Math/Integration.hpp\"\n",
    "#include \"../Math/Interpolation.hpp\"\n",
    "#include \"../Math/Matrix.hpp\"\n",
    "#include \"../Math/ODESolvers.hpp\"\n",
    "#include \"../Math/Vector.hpp\"\n",
    "#include <iostream>"
   ]
  },
  {
   "cell_type": "code",
   "execution_count": 3,
   "id": "extraordinary-sense",
   "metadata": {},
   "outputs": [
    {
     "data": {
      "text/plain": []
     },
     "execution_count": 3,
     "metadata": {},
     "output_type": "execute_result"
    }
   ],
   "source": [
    "using namespace Math;"
   ]
  },
  {
   "cell_type": "markdown",
   "id": "82fa6940",
   "metadata": {},
   "source": [
    "<h3> Vector double </h3>"
   ]
  },
  {
   "cell_type": "code",
   "execution_count": 4,
   "id": "hindu-commerce",
   "metadata": {},
   "outputs": [
    {
     "data": {
      "text/plain": []
     },
     "execution_count": 4,
     "metadata": {},
     "output_type": "execute_result"
    }
   ],
   "source": [
    "Vector<double> a({2,3,4});\n",
    "Vector<double> b({-1,0,1});"
   ]
  },
  {
   "cell_type": "code",
   "execution_count": 5,
   "id": "common-ladder",
   "metadata": {},
   "outputs": [
    {
     "data": {
      "text/plain": [
       "(std::string) \"(1.000000, 3.000000, 5.000000)\"\n"
      ]
     },
     "execution_count": 5,
     "metadata": {},
     "output_type": "execute_result"
    }
   ],
   "source": [
    "(a + b).to_string();"
   ]
  },
  {
   "cell_type": "code",
   "execution_count": 6,
   "id": "existing-split",
   "metadata": {},
   "outputs": [
    {
     "data": {
      "text/plain": [
       "(std::string) \"(3.000000, 3.000000, 3.000000)\"\n"
      ]
     },
     "execution_count": 6,
     "metadata": {},
     "output_type": "execute_result"
    }
   ],
   "source": [
    "(a - b).to_string();"
   ]
  },
  {
   "cell_type": "code",
   "execution_count": 7,
   "id": "gentle-cattle",
   "metadata": {},
   "outputs": [
    {
     "data": {
      "text/plain": [
       "(std::string) \"(-2.000000, 0.000000, 4.000000)\"\n"
      ]
     },
     "execution_count": 7,
     "metadata": {},
     "output_type": "execute_result"
    }
   ],
   "source": [
    "(a * b).to_string();"
   ]
  },
  {
   "cell_type": "code",
   "execution_count": 8,
   "id": "downtown-assist",
   "metadata": {},
   "outputs": [
    {
     "data": {
      "text/plain": [
       "(std::string) \"(-2.000000, inf, 4.000000)\"\n"
      ]
     },
     "execution_count": 8,
     "metadata": {},
     "output_type": "execute_result"
    }
   ],
   "source": [
    "(a / b).to_string();"
   ]
  },
  {
   "cell_type": "code",
   "execution_count": 9,
   "id": "russian-double",
   "metadata": {},
   "outputs": [
    {
     "data": {
      "text/plain": [
       "(double) 2.0000000\n"
      ]
     },
     "execution_count": 9,
     "metadata": {},
     "output_type": "execute_result"
    }
   ],
   "source": [
    "(a|b)"
   ]
  },
  {
   "cell_type": "code",
   "execution_count": 10,
   "id": "surgical-macedonia",
   "metadata": {},
   "outputs": [
    {
     "data": {
      "text/plain": [
       "(double) 29.000000\n"
      ]
     },
     "execution_count": 10,
     "metadata": {},
     "output_type": "execute_result"
    }
   ],
   "source": [
    "(a|a)"
   ]
  },
  {
   "cell_type": "code",
   "execution_count": 11,
   "id": "necessary-birth",
   "metadata": {},
   "outputs": [
    {
     "data": {
      "text/plain": [
       "(double) 2.0000000\n"
      ]
     },
     "execution_count": 11,
     "metadata": {},
     "output_type": "execute_result"
    }
   ],
   "source": [
    "(b|b)"
   ]
  },
  {
   "cell_type": "code",
   "execution_count": 12,
   "id": "stopped-keeping",
   "metadata": {},
   "outputs": [
    {
     "data": {
      "text/plain": [
       "(double) 5.3851648\n"
      ]
     },
     "execution_count": 12,
     "metadata": {},
     "output_type": "execute_result"
    }
   ],
   "source": [
    "a.norm_2();"
   ]
  },
  {
   "cell_type": "code",
   "execution_count": 13,
   "id": "caroline-judges",
   "metadata": {},
   "outputs": [
    {
     "data": {
      "text/plain": [
       "(double) 1.4142136\n"
      ]
     },
     "execution_count": 13,
     "metadata": {},
     "output_type": "execute_result"
    }
   ],
   "source": [
    "b.norm_2();"
   ]
  },
  {
   "cell_type": "code",
   "execution_count": 14,
   "id": "occupational-racing",
   "metadata": {},
   "outputs": [
    {
     "data": {
      "text/plain": [
       "(double) 9.0000000\n"
      ]
     },
     "execution_count": 14,
     "metadata": {},
     "output_type": "execute_result"
    }
   ],
   "source": [
    "a.norm_1();"
   ]
  },
  {
   "cell_type": "code",
   "execution_count": 15,
   "id": "extreme-processing",
   "metadata": {},
   "outputs": [
    {
     "data": {
      "text/plain": [
       "(double) 2.0000000\n"
      ]
     },
     "execution_count": 15,
     "metadata": {},
     "output_type": "execute_result"
    }
   ],
   "source": [
    "b.norm_1();"
   ]
  },
  {
   "cell_type": "code",
   "execution_count": 16,
   "id": "1e0e0cba",
   "metadata": {},
   "outputs": [
    {
     "data": {
      "text/plain": [
       "(double) 4.0000000\n"
      ]
     },
     "execution_count": 16,
     "metadata": {},
     "output_type": "execute_result"
    }
   ],
   "source": [
    "a.norm_inf();"
   ]
  },
  {
   "cell_type": "code",
   "execution_count": 17,
   "id": "51c0c748",
   "metadata": {},
   "outputs": [
    {
     "data": {
      "text/plain": [
       "(double) 1.0000000\n"
      ]
     },
     "execution_count": 17,
     "metadata": {},
     "output_type": "execute_result"
    }
   ],
   "source": [
    "b.norm_inf();"
   ]
  },
  {
   "cell_type": "code",
   "execution_count": 18,
   "id": "macro-sudan",
   "metadata": {},
   "outputs": [
    {
     "data": {
      "text/plain": [
       "(std::string) \"(-0.416147, -0.989992, -0.653644)\"\n"
      ]
     },
     "execution_count": 18,
     "metadata": {},
     "output_type": "execute_result"
    }
   ],
   "source": [
    "cos(a).to_string();"
   ]
  },
  {
   "cell_type": "code",
   "execution_count": 19,
   "id": "vocal-weight",
   "metadata": {},
   "outputs": [
    {
     "data": {
      "text/plain": [
       "(std::string) \"(0.693147, 1.098612, 1.386294)\"\n"
      ]
     },
     "execution_count": 19,
     "metadata": {},
     "output_type": "execute_result"
    }
   ],
   "source": [
    "log(a).to_string();"
   ]
  },
  {
   "cell_type": "code",
   "execution_count": 20,
   "id": "heard-breakfast",
   "metadata": {},
   "outputs": [
    {
     "data": {
      "text/plain": [
       "(double) 2.0000000\n"
      ]
     },
     "execution_count": 20,
     "metadata": {},
     "output_type": "execute_result"
    }
   ],
   "source": [
    "min(a);"
   ]
  },
  {
   "cell_type": "code",
   "execution_count": 21,
   "id": "together-macro",
   "metadata": {},
   "outputs": [
    {
     "data": {
      "text/plain": [
       "(double) 4.0000000\n"
      ]
     },
     "execution_count": 21,
     "metadata": {},
     "output_type": "execute_result"
    }
   ],
   "source": [
    "max(a);"
   ]
  },
  {
   "cell_type": "code",
   "execution_count": 22,
   "id": "distinct-pilot",
   "metadata": {},
   "outputs": [
    {
     "data": {
      "text/plain": [
       "(double) 9.0000000\n"
      ]
     },
     "execution_count": 22,
     "metadata": {},
     "output_type": "execute_result"
    }
   ],
   "source": [
    "sum(a);"
   ]
  },
  {
   "cell_type": "code",
   "execution_count": 23,
   "id": "cross-dealer",
   "metadata": {},
   "outputs": [
    {
     "data": {
      "text/plain": [
       "(double) 24.000000\n"
      ]
     },
     "execution_count": 23,
     "metadata": {},
     "output_type": "execute_result"
    }
   ],
   "source": [
    "multiply(a);"
   ]
  },
  {
   "cell_type": "code",
   "execution_count": null,
   "id": "pleased-dylan",
   "metadata": {},
   "outputs": [],
   "source": []
  },
  {
   "cell_type": "markdown",
   "id": "c597340d",
   "metadata": {},
   "source": [
    "<h3> Vector std::complex </h3>"
   ]
  },
  {
   "cell_type": "code",
   "execution_count": 24,
   "id": "4ff7fa56",
   "metadata": {},
   "outputs": [
    {
     "data": {
      "text/plain": []
     },
     "execution_count": 24,
     "metadata": {},
     "output_type": "execute_result"
    }
   ],
   "source": [
    "Vector<std::complex<double>> c({2 + 1i,3 - 1i,4 +2i});\n",
    "Vector<std::complex<double>> d({-1 -1i,1i, 2i});"
   ]
  },
  {
   "cell_type": "code",
   "execution_count": 25,
   "id": "98e25630",
   "metadata": {},
   "outputs": [
    {
     "data": {
      "text/plain": [
       "(std::string) \"(1.000000 + 0.000000i, 3.000000 + 0.000000i, 4.000000 + 4.000000i)\"\n"
      ]
     },
     "execution_count": 25,
     "metadata": {},
     "output_type": "execute_result"
    }
   ],
   "source": [
    "(c + d).to_string();"
   ]
  },
  {
   "cell_type": "code",
   "execution_count": 26,
   "id": "69b1f9b6",
   "metadata": {},
   "outputs": [
    {
     "data": {
      "text/plain": [
       "(std::string) \"(3.000000 + 2.000000i, 3.000000 + -2.000000i, 4.000000 + 0.000000i)\"\n"
      ]
     },
     "execution_count": 26,
     "metadata": {},
     "output_type": "execute_result"
    }
   ],
   "source": [
    "(c - d).to_string();"
   ]
  },
  {
   "cell_type": "code",
   "execution_count": 27,
   "id": "51a9e024",
   "metadata": {},
   "outputs": [
    {
     "data": {
      "text/plain": [
       "(std::string) \"(-1.000000 + -3.000000i, 1.000000 + 3.000000i, -4.000000 + 8.000000i)\"\n"
      ]
     },
     "execution_count": 27,
     "metadata": {},
     "output_type": "execute_result"
    }
   ],
   "source": [
    "(c * d).to_string();"
   ]
  },
  {
   "cell_type": "code",
   "execution_count": 28,
   "id": "1e4db80c",
   "metadata": {},
   "outputs": [
    {
     "data": {
      "text/plain": [
       "(std::string) \"(-1.500000 + 0.500000i, -1.000000 + -3.000000i, 1.000000 + -2.000000i)\"\n"
      ]
     },
     "execution_count": 28,
     "metadata": {},
     "output_type": "execute_result"
    }
   ],
   "source": [
    "(c / d).to_string();"
   ]
  },
  {
   "cell_type": "code",
   "execution_count": 29,
   "id": "e17a6bc3",
   "metadata": {},
   "outputs": [
    {
     "data": {
      "text/plain": [
       "(std::string) \"0.000000 + 10.000000i\"\n"
      ]
     },
     "execution_count": 29,
     "metadata": {},
     "output_type": "execute_result"
    }
   ],
   "source": [
    "to_string((c|d));"
   ]
  },
  {
   "cell_type": "code",
   "execution_count": 30,
   "id": "4a27e78e",
   "metadata": {},
   "outputs": [
    {
     "data": {
      "text/plain": [
       "(std::string) \"35.000000 + 0.000000i\"\n"
      ]
     },
     "execution_count": 30,
     "metadata": {},
     "output_type": "execute_result"
    }
   ],
   "source": [
    "to_string((c|c));"
   ]
  },
  {
   "cell_type": "code",
   "execution_count": 31,
   "id": "53d329f3",
   "metadata": {},
   "outputs": [
    {
     "data": {
      "text/plain": [
       "(std::string) \"7.000000 + 0.000000i\"\n"
      ]
     },
     "execution_count": 31,
     "metadata": {},
     "output_type": "execute_result"
    }
   ],
   "source": [
    "to_string((d|d));"
   ]
  },
  {
   "cell_type": "code",
   "execution_count": 32,
   "id": "0bf99501",
   "metadata": {},
   "outputs": [
    {
     "data": {
      "text/plain": [
       "(double) 5.9160798\n"
      ]
     },
     "execution_count": 32,
     "metadata": {},
     "output_type": "execute_result"
    }
   ],
   "source": [
    "c.norm_2();"
   ]
  },
  {
   "cell_type": "code",
   "execution_count": 33,
   "id": "864faf43",
   "metadata": {},
   "outputs": [
    {
     "data": {
      "text/plain": [
       "(double) 2.6457513\n"
      ]
     },
     "execution_count": 33,
     "metadata": {},
     "output_type": "execute_result"
    }
   ],
   "source": [
    "d.norm_2();"
   ]
  },
  {
   "cell_type": "code",
   "execution_count": 34,
   "id": "44c620cb",
   "metadata": {},
   "outputs": [
    {
     "data": {
      "text/plain": [
       "(double) 9.8704816\n"
      ]
     },
     "execution_count": 34,
     "metadata": {},
     "output_type": "execute_result"
    }
   ],
   "source": [
    "c.norm_1();"
   ]
  },
  {
   "cell_type": "code",
   "execution_count": 35,
   "id": "e22dc13d",
   "metadata": {},
   "outputs": [
    {
     "data": {
      "text/plain": [
       "(double) 4.4142136\n"
      ]
     },
     "execution_count": 35,
     "metadata": {},
     "output_type": "execute_result"
    }
   ],
   "source": [
    "d.norm_1();"
   ]
  },
  {
   "cell_type": "code",
   "execution_count": 36,
   "id": "62f227cf",
   "metadata": {},
   "outputs": [
    {
     "data": {
      "text/plain": [
       "(double) 4.4721360\n"
      ]
     },
     "execution_count": 36,
     "metadata": {},
     "output_type": "execute_result"
    }
   ],
   "source": [
    "c.norm_inf();"
   ]
  },
  {
   "cell_type": "code",
   "execution_count": 37,
   "id": "17c09423",
   "metadata": {},
   "outputs": [
    {
     "data": {
      "text/plain": [
       "(double) 2.0000000\n"
      ]
     },
     "execution_count": 37,
     "metadata": {},
     "output_type": "execute_result"
    }
   ],
   "source": [
    "d.norm_inf();"
   ]
  },
  {
   "cell_type": "code",
   "execution_count": 38,
   "id": "1c6781af",
   "metadata": {},
   "outputs": [
    {
     "data": {
      "text/plain": [
       "(std::string) \"(-0.642148 + -1.068607i, -1.527638 + 0.165844i, -2.459135 + 2.744817i)\"\n"
      ]
     },
     "execution_count": 38,
     "metadata": {},
     "output_type": "execute_result"
    }
   ],
   "source": [
    "cos(c).to_string();"
   ]
  },
  {
   "cell_type": "code",
   "execution_count": 39,
   "id": "vocal-weight",
   "metadata": {},
   "outputs": [
    {
     "data": {
      "text/plain": [
       "(std::string) \"(0.346574 + -2.356194i, 0.000000 + 1.570796i, 0.693147 + 1.570796i)\"\n"
      ]
     },
     "execution_count": 39,
     "metadata": {},
     "output_type": "execute_result"
    }
   ],
   "source": [
    "log(d).to_string();"
   ]
  },
  {
   "cell_type": "code",
   "execution_count": null,
   "id": "6c855dd9",
   "metadata": {},
   "outputs": [],
   "source": []
  },
  {
   "cell_type": "code",
   "execution_count": null,
   "id": "497796f0",
   "metadata": {},
   "outputs": [],
   "source": []
  },
  {
   "cell_type": "markdown",
   "id": "f9999897",
   "metadata": {},
   "source": [
    "<h3> Matrix<double> </h3>"
   ]
  },
  {
   "cell_type": "code",
   "execution_count": 4,
   "id": "3281cd42",
   "metadata": {},
   "outputs": [
    {
     "name": "stdout",
     "output_type": "stream",
     "text": [
      "M((0.000000, 0.000000, 0.000000),\n",
      "(0.000000, 0.000000, 0.000000),\n",
      "(0.000000, 0.000000, 0.000000))\n"
     ]
    },
    {
     "data": {
      "text/plain": []
     },
     "execution_count": 4,
     "metadata": {},
     "output_type": "execute_result"
    }
   ],
   "source": [
    "{\n",
    "    Matrix<double> A(3,3);\n",
    "    std::cout << A.to_string() << \"\\n\";\n",
    "}"
   ]
  },
  {
   "cell_type": "code",
   "execution_count": 5,
   "id": "b0c9940e",
   "metadata": {},
   "outputs": [
    {
     "name": "stdout",
     "output_type": "stream",
     "text": [
      "M((0.000000, 0.000000, 0.000000, 0.000000, 0.000000))\n"
     ]
    },
    {
     "data": {
      "text/plain": []
     },
     "execution_count": 5,
     "metadata": {},
     "output_type": "execute_result"
    }
   ],
   "source": [
    "{\n",
    "    Matrix<double> A(1,5);\n",
    "    std::cout << A.to_string() << \"\\n\";\n",
    "}"
   ]
  },
  {
   "cell_type": "code",
   "execution_count": 6,
   "id": "a055d757",
   "metadata": {},
   "outputs": [
    {
     "name": "stdout",
     "output_type": "stream",
     "text": [
      "M((0.000000),\n",
      "(0.000000),\n",
      "(0.000000),\n",
      "(0.000000),\n",
      "(0.000000))\n"
     ]
    },
    {
     "data": {
      "text/plain": []
     },
     "execution_count": 6,
     "metadata": {},
     "output_type": "execute_result"
    }
   ],
   "source": [
    "{\n",
    "    Matrix<double> A(5,1);\n",
    "    std::cout << A.to_string() << \"\\n\";\n",
    "}"
   ]
  },
  {
   "cell_type": "code",
   "execution_count": 7,
   "id": "14ee0f5e",
   "metadata": {},
   "outputs": [
    {
     "name": "stdout",
     "output_type": "stream",
     "text": [
      "M((0.000000, 0.000000, 0.000000),\n",
      "(0.000000, 0.000000, 0.000000))\n"
     ]
    },
    {
     "data": {
      "text/plain": []
     },
     "execution_count": 7,
     "metadata": {},
     "output_type": "execute_result"
    }
   ],
   "source": [
    "{\n",
    "    Matrix<double> A(2,3);\n",
    "    std::cout << A.to_string() << \"\\n\";\n",
    "}"
   ]
  },
  {
   "cell_type": "code",
   "execution_count": 8,
   "id": "04c99417",
   "metadata": {},
   "outputs": [
    {
     "name": "stdout",
     "output_type": "stream",
     "text": [
      "M((1.000000, 0.000000),\n",
      "(0.000000, 1.000000))\n"
     ]
    },
    {
     "data": {
      "text/plain": []
     },
     "execution_count": 8,
     "metadata": {},
     "output_type": "execute_result"
    }
   ],
   "source": [
    "{\n",
    "    Matrix<double> A(2,2, {1,0,0,1});\n",
    "    std::cout << A.to_string() << \"\\n\";\n",
    "}"
   ]
  },
  {
   "cell_type": "code",
   "execution_count": 9,
   "id": "fefaeafc",
   "metadata": {},
   "outputs": [
    {
     "name": "stdout",
     "output_type": "stream",
     "text": [
      "M((0.000000, 0.000000),\n",
      "(0.000000, 0.000000))\n"
     ]
    },
    {
     "data": {
      "text/plain": []
     },
     "execution_count": 9,
     "metadata": {},
     "output_type": "execute_result"
    }
   ],
   "source": [
    "{\n",
    "    std::cout << Matrix<double>::zero(2).to_string() << \"\\n\";\n",
    "}"
   ]
  },
  {
   "cell_type": "code",
   "execution_count": 10,
   "id": "482426c5",
   "metadata": {},
   "outputs": [
    {
     "name": "stdout",
     "output_type": "stream",
     "text": [
      "M((1.000000, 0.000000),\n",
      "(0.000000, 1.000000))\n"
     ]
    },
    {
     "data": {
      "text/plain": []
     },
     "execution_count": 10,
     "metadata": {},
     "output_type": "execute_result"
    }
   ],
   "source": [
    "{\n",
    "    std::cout << Matrix<double>::identity(2).to_string() << \"\\n\";\n",
    "}"
   ]
  },
  {
   "cell_type": "code",
   "execution_count": 11,
   "id": "7accd224",
   "metadata": {},
   "outputs": [
    {
     "name": "stdout",
     "output_type": "stream",
     "text": [
      "M((1.000000, -1.000000),\n",
      "(1.000000, -1.000000))\n",
      "M((2.000000, -3.000000),\n",
      "(1.000000, 1.000000))\n",
      "\n",
      "M((3.000000, -4.000000),\n",
      "(2.000000, 0.000000))\n",
      "M((-1.000000, 2.000000),\n",
      "(0.000000, -2.000000))\n",
      "M((1.000000, -4.000000),\n",
      "(1.000000, -4.000000))\n",
      "\n",
      "(2.000000, 1.000000)\n",
      "(2.000000, -3.000000)\n",
      "2\n",
      "1\n"
     ]
    },
    {
     "data": {
      "text/plain": []
     },
     "execution_count": 11,
     "metadata": {},
     "output_type": "execute_result"
    }
   ],
   "source": [
    "{\n",
    "    Matrix<double> A(2,2, {1, -1, 1, -1});\n",
    "    Matrix<double> B(2,2, {2, -3, 1, 1});\n",
    "    std::cout << A.to_string() << \"\\n\";\n",
    "    std::cout << B.to_string() << \"\\n\\n\";\n",
    "    std::cout << (A+B).to_string() << \"\\n\";\n",
    "    std::cout << (A-B).to_string() << \"\\n\";\n",
    "    std::cout << (A|B).to_string() << \"\\n\\n\";\n",
    "    Vector<double> vec({1,0});\n",
    "    std::cout << (B|vec).to_string() << \"\\n\";\n",
    "    std::cout << (vec|B).to_string() << \"\\n\";\n",
    "    std::cout << (vec|B|vec) << \"\\n\";\n",
    "    std::cout << (vec|B|B|vec) << \"\\n\";\n",
    "}"
   ]
  },
  {
   "cell_type": "code",
   "execution_count": 12,
   "id": "3ea447e8",
   "metadata": {},
   "outputs": [
    {
     "name": "stdout",
     "output_type": "stream",
     "text": [
      "M((1.000000, -1.000000),\n",
      "(-2.000000, 2.000000))\n",
      "\n",
      "M((4.000000, 2.000000),\n",
      "(1.000000, 5.000000))\n",
      "M((4.000000, 2.000000),\n",
      "(1.000000, 5.000000))\n",
      "M((2.000000, 4.000000),\n",
      "(5.000000, 1.000000))\n",
      "M((-2.000000, -4.000000),\n",
      "(-5.000000, -1.000000))\n",
      "M((3.000000, -3.000000),\n",
      "(-6.000000, 6.000000))\n",
      "M((3.000000, -3.000000),\n",
      "(-6.000000, 6.000000))\n",
      "M((0.333333, -0.333333),\n",
      "(-0.666667, 0.666667))\n"
     ]
    },
    {
     "data": {
      "text/plain": []
     },
     "execution_count": 12,
     "metadata": {},
     "output_type": "execute_result"
    }
   ],
   "source": [
    "{\n",
    "    Matrix<double> A(2,2, {1, -1, -2, 2});\n",
    "    std::cout << A.to_string() << \"\\n\\n\";\n",
    "    std::cout << (3. + A).to_string() << \"\\n\";\n",
    "    std::cout << (A + 3.).to_string() << \"\\n\";\n",
    "    std::cout << (3. - A).to_string() << \"\\n\";\n",
    "    std::cout << (A - 3.).to_string() << \"\\n\";\n",
    "    std::cout << (3.*A).to_string() << \"\\n\";\n",
    "    std::cout << (A*3.).to_string() << \"\\n\";\n",
    "    std::cout << (A/3.).to_string() << \"\\n\";\n",
    "}"
   ]
  },
  {
   "cell_type": "code",
   "execution_count": 13,
   "id": "0f46a45a",
   "metadata": {},
   "outputs": [
    {
     "name": "stdout",
     "output_type": "stream",
     "text": [
      "M((1.000000, -1.000000),\n",
      "(-2.000000, 2.000000))\n",
      "M((1.000000 + 0.000000i, -1.000000 + 0.000000i),\n",
      "(-2.000000 + 0.000000i, 2.000000 + 0.000000i))\n"
     ]
    },
    {
     "data": {
      "text/plain": []
     },
     "execution_count": 13,
     "metadata": {},
     "output_type": "execute_result"
    }
   ],
   "source": [
    "{\n",
    "    Matrix<double> A(2,2, {1, -1, -2, 2});\n",
    "    std::cout << A.to_string() << \"\\n\";\n",
    "    Matrix<std::complex<double>> Ac(A);\n",
    "    std::cout << Ac.to_string() << \"\\n\";\n",
    "}"
   ]
  },
  {
   "cell_type": "code",
   "execution_count": 14,
   "id": "f5b01175",
   "metadata": {},
   "outputs": [
    {
     "name": "stdout",
     "output_type": "stream",
     "text": [
      "M((1.000000, -1.000000),\n",
      "(-2.000000, 2.000000))\n",
      "\n",
      "(1.000000, -1.000000)\n",
      "(-2.000000, 2.000000)\n",
      "(1.000000, -2.000000)\n",
      "(-1.000000, 2.000000)\n",
      "\n",
      "1 -1\n",
      "-2 2\n"
     ]
    },
    {
     "data": {
      "text/plain": []
     },
     "execution_count": 14,
     "metadata": {},
     "output_type": "execute_result"
    }
   ],
   "source": [
    "{\n",
    "    Matrix<double> A(2,2, {1, -1, -2, 2});\n",
    "    std::cout << A.to_string() << \"\\n\\n\";\n",
    "    std::cout << A(0,\"\").to_string() << \"\\n\";\n",
    "    std::cout << A(1,\"\").to_string() << \"\\n\";\n",
    "    std::cout << A(\"\",0).to_string() << \"\\n\";\n",
    "    std::cout << A(\"\",1).to_string() << \"\\n\\n\";\n",
    "    std::cout << A(0,0) << \" \" << A(0,1) << \"\\n\" << A(1,0) << \" \" << A(1,1) << \"\\n\";\n",
    "}"
   ]
  },
  {
   "cell_type": "code",
   "execution_count": 15,
   "id": "335e79a4",
   "metadata": {},
   "outputs": [
    {
     "name": "stdout",
     "output_type": "stream",
     "text": [
      "M((1.000000, -1.000000),\n",
      "(-2.000000, 2.000000))\n",
      "M((4.000000, 2.000000),\n",
      "(1.000000, 5.000000))\n"
     ]
    },
    {
     "data": {
      "text/plain": []
     },
     "execution_count": 15,
     "metadata": {},
     "output_type": "execute_result"
    }
   ],
   "source": [
    "{\n",
    "    Matrix<double> A(2,2, {1, -1, -2, 2});\n",
    "    std::cout << A.to_string() << \"\\n\";\n",
    "    A += 3;\n",
    "    std::cout << A.to_string() << \"\\n\";\n",
    "}"
   ]
  },
  {
   "cell_type": "code",
   "execution_count": 16,
   "id": "bb5b38f6",
   "metadata": {},
   "outputs": [
    {
     "name": "stdout",
     "output_type": "stream",
     "text": [
      "M((1.000000, -1.000000),\n",
      "(-2.000000, 2.000000))\n",
      "M((-2.000000, -4.000000),\n",
      "(-5.000000, -1.000000))\n"
     ]
    },
    {
     "data": {
      "text/plain": []
     },
     "execution_count": 16,
     "metadata": {},
     "output_type": "execute_result"
    }
   ],
   "source": [
    "{\n",
    "    Matrix<double> A(2,2, {1, -1, -2, 2});\n",
    "    std::cout << A.to_string() << \"\\n\";\n",
    "    A -= 3;\n",
    "    std::cout << A.to_string() << \"\\n\";\n",
    "}"
   ]
  },
  {
   "cell_type": "code",
   "execution_count": 17,
   "id": "0263196e",
   "metadata": {},
   "outputs": [
    {
     "name": "stdout",
     "output_type": "stream",
     "text": [
      "M((1.000000, -1.000000),\n",
      "(-2.000000, 2.000000))\n",
      "M((3.000000, -3.000000),\n",
      "(-6.000000, 6.000000))\n"
     ]
    },
    {
     "data": {
      "text/plain": []
     },
     "execution_count": 17,
     "metadata": {},
     "output_type": "execute_result"
    }
   ],
   "source": [
    "{\n",
    "    Matrix<double> A(2,2, {1, -1, -2, 2});\n",
    "    std::cout << A.to_string() << \"\\n\";\n",
    "    A *= 3;\n",
    "    std::cout << A.to_string() << \"\\n\";\n",
    "}"
   ]
  },
  {
   "cell_type": "code",
   "execution_count": 18,
   "id": "8443e9ee",
   "metadata": {},
   "outputs": [
    {
     "name": "stdout",
     "output_type": "stream",
     "text": [
      "M((1.000000, -1.000000),\n",
      "(-2.000000, 2.000000))\n",
      "M((0.333333, -0.333333),\n",
      "(-0.666667, 0.666667))\n"
     ]
    },
    {
     "data": {
      "text/plain": []
     },
     "execution_count": 18,
     "metadata": {},
     "output_type": "execute_result"
    }
   ],
   "source": [
    "{\n",
    "    Matrix<double> A(2,2, {1, -1, -2, 2});\n",
    "    std::cout << A.to_string() << \"\\n\";\n",
    "    A /= 3;\n",
    "    std::cout << A.to_string() << \"\\n\";\n",
    "}"
   ]
  },
  {
   "cell_type": "code",
   "execution_count": 19,
   "id": "5b050862",
   "metadata": {},
   "outputs": [
    {
     "name": "stdout",
     "output_type": "stream",
     "text": [
      "1\n",
      "0\n"
     ]
    },
    {
     "data": {
      "text/plain": []
     },
     "execution_count": 19,
     "metadata": {},
     "output_type": "execute_result"
    }
   ],
   "source": [
    "{\n",
    "    Matrix<double> A(2,2, {1, -1, -2, 2});\n",
    "    Matrix<double> B(2,1);\n",
    "    std::cout << A.is_square() << \"\\n\";\n",
    "    std::cout << B.is_square() << \"\\n\";\n",
    "}"
   ]
  },
  {
   "cell_type": "code",
   "execution_count": 20,
   "id": "54ec9e06",
   "metadata": {},
   "outputs": [
    {
     "name": "stdout",
     "output_type": "stream",
     "text": [
      "M((1.000000, -1.000000),\n",
      "(-2.000000, 2.000000))\n",
      "\n",
      "3\n",
      "0\n"
     ]
    },
    {
     "data": {
      "text/plain": []
     },
     "execution_count": 20,
     "metadata": {},
     "output_type": "execute_result"
    }
   ],
   "source": [
    "{\n",
    "    Matrix<double> A(2,2, {1, -1, -2, 2});\n",
    "    std::cout << A.to_string() << \"\\n\\n\";\n",
    "    std::cout << A.tr() << \"\\n\";\n",
    "    std::cout << A.det() << \"\\n\";\n",
    "}"
   ]
  },
  {
   "cell_type": "code",
   "execution_count": 21,
   "id": "801cba19",
   "metadata": {},
   "outputs": [
    {
     "name": "stdout",
     "output_type": "stream",
     "text": [
      "M((2.000000, -7.000000),\n",
      "(0.000000, 1.000000))\n",
      "\n",
      "tr = 3\n",
      "det = 2\n",
      "\n",
      "(1,0) (2,0) \n",
      "(-7.000000 + 0.000000i, -1.000000 + 0.000000i) (1.000000 + 0.000000i, 0.000000 + 0.000000i) "
     ]
    },
    {
     "data": {
      "text/plain": []
     },
     "execution_count": 21,
     "metadata": {},
     "output_type": "execute_result"
    }
   ],
   "source": [
    "{\n",
    "    Matrix<double> A(2,2, {2, -7, 0, 1});\n",
    "    std::cout << A.to_string() << \"\\n\\n\";\n",
    "    std::cout << \"tr = \" << A.tr() << \"\\n\";\n",
    "    std::cout << \"det = \" << A.det() << \"\\n\\n\";\n",
    "    std::vector<std::complex<double>> ev = A.eigenvalues();\n",
    "    for (unsigned int i = 0; i < ev.size(); ++i)\n",
    "    {\n",
    "        std::cout << ev[i] << \" \";\n",
    "    }\n",
    "    std::cout << \"\\n\";\n",
    "    auto evec = A.eigenvectors(ev, false);\n",
    "    for (unsigned int i = 0; i < evec.size(); ++i)\n",
    "    {\n",
    "        std::cout << evec[i].to_string() << \" \";\n",
    "    }\n",
    "}"
   ]
  },
  {
   "cell_type": "code",
   "execution_count": 22,
   "id": "45818c46",
   "metadata": {},
   "outputs": [
    {
     "name": "stdout",
     "output_type": "stream",
     "text": [
      "M((1.000000, 0.000000, 1.000000),\n",
      "(0.000000, 2.000000, 0.000000),\n",
      "(0.000000, 0.000000, -1.000000))\n",
      "\n",
      "tr = 2\n",
      "det = -2\n",
      "\n",
      "(2,0) (-1,0) (1,-0) \n",
      "(0.000000 + 0.000000i, 3.000000 + 0.000000i, 0.000000 + 0.000000i) (-3.000000 + 0.000000i, 0.000000 + 0.000000i, 6.000000 + 0.000000i) (-2.000000 + 0.000000i, 0.000000 + 0.000000i, 0.000000 + 0.000000i) "
     ]
    },
    {
     "data": {
      "text/plain": []
     },
     "execution_count": 22,
     "metadata": {},
     "output_type": "execute_result"
    }
   ],
   "source": [
    "{\n",
    "    Matrix<double> A(3,3, {1,0,1,0,2,0,0,0,-1});\n",
    "    std::cout << A.to_string() << \"\\n\\n\";\n",
    "    std::cout << \"tr = \" << A.tr() << \"\\n\";\n",
    "    std::cout << \"det = \" << A.det() << \"\\n\\n\";\n",
    "    std::vector<std::complex<double>> ev = A.eigenvalues();\n",
    "    for (unsigned int i = 0; i < ev.size(); ++i)\n",
    "    {\n",
    "        std::cout << ev[i] << \" \";\n",
    "    }\n",
    "    std::cout << \"\\n\";\n",
    "    auto evec = A.eigenvectors(ev, false);\n",
    "    for (unsigned int i = 0; i < evec.size(); ++i)\n",
    "    {\n",
    "        std::cout << evec[i].to_string() << \" \";\n",
    "    }\n",
    "}"
   ]
  },
  {
   "cell_type": "code",
   "execution_count": null,
   "id": "4ac0e113",
   "metadata": {},
   "outputs": [],
   "source": []
  },
  {
   "cell_type": "markdown",
   "id": "82a64aa2",
   "metadata": {},
   "source": [
    "<h3> Solving Linear Systems (LU factorization) </h3>"
   ]
  },
  {
   "cell_type": "code",
   "execution_count": 4,
   "id": "e6bcd5ba",
   "metadata": {},
   "outputs": [
    {
     "name": "stdout",
     "output_type": "stream",
     "text": [
      "M((6.000000, 2.000000, 1.000000, -1.000000),\n",
      "(2.000000, 4.000000, 1.000000, 0.000000),\n",
      "(1.000000, 1.000000, 4.000000, -1.000000),\n",
      "(-1.000000, 0.000000, -1.000000, 3.000000))\n",
      "M((1.000000, 0.000000, 0.000000, 0.000000),\n",
      "(0.333333, 1.000000, 0.000000, 0.000000),\n",
      "(0.166667, 0.200000, 1.000000, 0.000000),\n",
      "(-0.166667, 0.100000, -0.243243, 1.000000))\n",
      "M((6.000000, 2.000000, 1.000000, -1.000000),\n",
      "(0.000000, 3.333333, 0.666667, 0.333333),\n",
      "(0.000000, 0.000000, 3.700000, -0.900000),\n",
      "(0.000000, 0.000000, 0.000000, 2.581081))\n",
      "0, 1, 2, 3, \n",
      "M((6.000000, 2.000000, 1.000000, -1.000000),\n",
      "(2.000000, 4.000000, 1.000000, 0.000000),\n",
      "(1.000000, 1.000000, 4.000000, -1.000000),\n",
      "(-1.000000, 0.000000, -1.000000, 3.000000))\n"
     ]
    },
    {
     "data": {
      "text/plain": []
     },
     "execution_count": 4,
     "metadata": {},
     "output_type": "execute_result"
    }
   ],
   "source": [
    "{\n",
    "    Matrix<double> A = Matrix<double>(4,4, {6, 2, 1, -1, 2, 4, 1, 0, 1, 1, 4, -1, -1, 0, -1, 3});\n",
    "    std::cout << A.to_string() << \"\\n\";\n",
    "    Matrix<double> L, U;\n",
    "    std::vector<unsigned int> P;\n",
    "    A.LU(L, U, P);\n",
    "    std::cout << L.to_string() << \"\\n\";\n",
    "    std::cout << U.to_string() << \"\\n\";\n",
    "    for (unsigned int i = 0; i < 4; i++)\n",
    "    {\n",
    "        std::cout << P[i] << \", \";\n",
    "    }\n",
    "    std::cout << \"\\n\";\n",
    "    std::cout << (L|U).to_string() << \"\\n\";\n",
    "}"
   ]
  },
  {
   "cell_type": "code",
   "execution_count": 5,
   "id": "861c254e",
   "metadata": {},
   "outputs": [
    {
     "name": "stdout",
     "output_type": "stream",
     "text": [
      "M((1.000000, 2.000000, 1.000000),\n",
      "(2.000000, 1.000000, 0.000000),\n",
      "(-1.000000, 2.000000, 3.000000))\n",
      "M((1.000000, 0.000000, 0.000000),\n",
      "(-0.500000, 1.000000, 0.000000),\n",
      "(0.500000, 0.600000, 1.000000))\n",
      "M((2.000000, 1.000000, 0.000000),\n",
      "(0.000000, 2.500000, 3.000000),\n",
      "(0.000000, 0.000000, -0.800000))\n",
      "1, 2, 0, \n",
      "M((2.000000, 1.000000, 0.000000),\n",
      "(-1.000000, 2.000000, 3.000000),\n",
      "(1.000000, 2.000000, 1.000000))\n"
     ]
    },
    {
     "data": {
      "text/plain": []
     },
     "execution_count": 5,
     "metadata": {},
     "output_type": "execute_result"
    }
   ],
   "source": [
    "{\n",
    "    Matrix<double> A = Matrix<double>(3,3, {1, 2, 1, 2, 1, 0, -1, 2, 3});\n",
    "    std::cout << A.to_string() << \"\\n\";\n",
    "    Matrix<double> L, U;\n",
    "    std::vector<unsigned int> P;\n",
    "    A.LU(L, U, P);\n",
    "    std::cout << L.to_string() << \"\\n\";\n",
    "    std::cout << U.to_string() << \"\\n\";\n",
    "    for (unsigned int i = 0; i < 3; i++)\n",
    "    {\n",
    "        std::cout << P[i] << \", \";\n",
    "    }\n",
    "    std::cout << \"\\n\";\n",
    "    std::cout << (L|U).to_string() << \"\\n\";\n",
    "}"
   ]
  },
  {
   "cell_type": "code",
   "execution_count": 7,
   "id": "e8026fbc",
   "metadata": {},
   "outputs": [
    {
     "name": "stdout",
     "output_type": "stream",
     "text": [
      "M((6.000000, 2.000000, 1.000000, -1.000000),\n",
      "(2.000000, 4.000000, 1.000000, 0.000000),\n",
      "(1.000000, 1.000000, 4.000000, -1.000000),\n",
      "(-1.000000, 0.000000, -1.000000, 3.000000))\n",
      "b = (3.000000, 1.000000, -5.000000, 6.000000)\n",
      "x = (1.000000, 0.000000, -1.000000, 2.000000)\n",
      "Ax = (3.000000, 1.000000, -5.000000, 6.000000)\n"
     ]
    },
    {
     "data": {
      "text/plain": []
     },
     "execution_count": 7,
     "metadata": {},
     "output_type": "execute_result"
    }
   ],
   "source": [
    "{\n",
    "    Matrix<double> A = Matrix<double>(4,4, {6, 2, 1, -1, 2, 4, 1, 0, 1, 1, 4, -1, -1, 0, -1, 3});\n",
    "    std::cout << A.to_string() << \"\\n\";\n",
    "    Vector<double> b = {3, 1, -5, 6};\n",
    "    std::cout << \"b = \" << b.to_string() << \"\\n\";\n",
    "    AlgebraicSolvers::LinearSystemSolver LS(A);\n",
    "    Vector<double> x = LS.solve(b);\n",
    "    std::cout << \"x = \" << x.to_string() << \"\\n\";\n",
    "    std::cout << \"Ax = \" << (A|x).to_string() << \"\\n\";\n",
    "}"
   ]
  },
  {
   "cell_type": "code",
   "execution_count": 8,
   "id": "f8895d48",
   "metadata": {},
   "outputs": [
    {
     "name": "stdout",
     "output_type": "stream",
     "text": [
      "M((10.000000, -1.000000, 2.000000, 0.000000),\n",
      "(-1.000000, 11.000000, -1.000000, 3.000000),\n",
      "(2.000000, -1.000000, 10.000000, -1.000000),\n",
      "(0.000000, 3.000000, -1.000000, 8.000000))\n",
      "b = (6.000000, 25.000000, -11.000000, 15.000000)\n",
      "x = (1.000000, 2.000000, -1.000000, 1.000000)\n",
      "Ax = (6.000000, 25.000000, -11.000000, 15.000000)\n"
     ]
    },
    {
     "data": {
      "text/plain": []
     },
     "execution_count": 8,
     "metadata": {},
     "output_type": "execute_result"
    }
   ],
   "source": [
    "{\n",
    "    Matrix<double> A = Matrix<double>(4,4, {10, -1, 2, 0, -1, 11, -1, 3, 2, -1, 10, -1, 0, 3, -1, 8});\n",
    "    std::cout << A.to_string() << \"\\n\";\n",
    "    Vector<double> b = {6, 25, -11, 15};\n",
    "    std::cout << \"b = \" << b.to_string() << \"\\n\";\n",
    "    AlgebraicSolvers::LinearSystemSolver LS(A);\n",
    "    Vector<double> x = LS.solve(b);\n",
    "    std::cout << \"x = \" << x.to_string() << \"\\n\";\n",
    "    std::cout << \"Ax = \" << (A|x).to_string() << \"\\n\";\n",
    "}"
   ]
  },
  {
   "cell_type": "code",
   "execution_count": 9,
   "id": "d768502a",
   "metadata": {},
   "outputs": [
    {
     "name": "stdout",
     "output_type": "stream",
     "text": [
      "M((4.000000, -1.000000, 0.000000, -1.000000, 0.000000, 0.000000),\n",
      "(-1.000000, 4.000000, -1.000000, 0.000000, -1.000000, 0.000000),\n",
      "(0.000000, -1.000000, 4.000000, 0.000000, 0.000000, -1.000000),\n",
      "(-1.000000, 0.000000, 0.000000, 4.000000, -1.000000, 0.000000),\n",
      "(0.000000, -1.000000, 0.000000, -1.000000, 4.000000, -1.000000),\n",
      "(0.000000, 0.000000, -1.000000, 0.000000, -1.000000, 4.000000))\n",
      "b = (0.000000, 5.000000, 0.000000, 6.000000, -2.000000, 6.000000)\n",
      "x = (1.000000, 2.000000, 1.000000, 2.000000, 1.000000, 2.000000)\n",
      "Ax = (0.000000, 5.000000, 0.000000, 6.000000, -2.000000, 6.000000)\n"
     ]
    },
    {
     "data": {
      "text/plain": []
     },
     "execution_count": 9,
     "metadata": {},
     "output_type": "execute_result"
    }
   ],
   "source": [
    "{\n",
    "    Matrix<double> A = Matrix<double>(6,6, {4, -1, 0, -1, 0, 0,\n",
    "                                            -1, 4, -1, 0, -1, 0,\n",
    "                                            0, -1, 4, 0, 0, -1,\n",
    "                                            -1, 0, 0, 4, -1, 0,\n",
    "                                            0, -1, 0, -1, 4, -1,\n",
    "                                            0, 0, -1, 0, -1, 4});\n",
    "    std::cout << A.to_string() << \"\\n\";\n",
    "    Vector<double> b = {0, 5, 0, 6, -2, 6};\n",
    "    std::cout << \"b = \" << b.to_string() << \"\\n\";\n",
    "    AlgebraicSolvers::LinearSystemSolver LS(A);\n",
    "    Vector<double> x = LS.solve(b);\n",
    "    std::cout << \"x = \" << x.to_string() << \"\\n\";\n",
    "    std::cout << \"Ax = \" << (A|x).to_string() << \"\\n\";\n",
    "}"
   ]
  },
  {
   "cell_type": "code",
   "execution_count": 10,
   "id": "ca168cad",
   "metadata": {},
   "outputs": [
    {
     "name": "stdout",
     "output_type": "stream",
     "text": [
      "M((1.000000, 2.000000, 3.000000),\n",
      "(4.000000, 5.000000, 6.000000),\n",
      "(7.000000, 8.000000, -1.000000))\n",
      "b = (3.000000, -3.000000, 3.000000)\n",
      "x = (-8.200000, 7.400000, -1.200000)\n",
      "Ax = (3.000000, -3.000000, 3.000000)\n"
     ]
    },
    {
     "data": {
      "text/plain": []
     },
     "execution_count": 10,
     "metadata": {},
     "output_type": "execute_result"
    }
   ],
   "source": [
    "{\n",
    "    Matrix<double> A = Matrix<double>(3,3, {1,2,3,4,5,6,7,8,-1});\n",
    "    std::cout << A.to_string() << \"\\n\";\n",
    "    Vector<double> b = {3, -3, 3};\n",
    "    std::cout << \"b = \" << b.to_string() << \"\\n\";\n",
    "    AlgebraicSolvers::LinearSystemSolver LS(A);\n",
    "    Vector<double> x = LS.solve(b);\n",
    "    std::cout << \"x = \" << x.to_string() << \"\\n\";\n",
    "    std::cout << \"Ax = \" << (A|x).to_string() << \"\\n\";\n",
    "}"
   ]
  },
  {
   "cell_type": "code",
   "execution_count": 11,
   "id": "37f47e56",
   "metadata": {},
   "outputs": [
    {
     "name": "stdout",
     "output_type": "stream",
     "text": [
      "M((1.000000, 0.500000, 0.333333, 0.250000, 0.200000),\n",
      "(0.500000, 0.333333, 0.250000, 0.200000, 0.166667),\n",
      "(0.333333, 0.250000, 0.200000, 0.166667, 0.142857),\n",
      "(0.250000, 0.200000, 0.166667, 0.142857, 0.125000),\n",
      "(0.200000, 0.166667, 0.142857, 0.125000, 0.111111))\n",
      "b = (0.000000, 0.000000, 0.000000, 0.000000, 1.000000)\n",
      "x = (630.000000, -12600.000000, 56700.000000, -88200.000000, 44100.000000)\n",
      "Ax = (0.000000, -0.000000, -0.000000, -0.000000, 1.000000)\n"
     ]
    },
    {
     "data": {
      "text/plain": []
     },
     "execution_count": 11,
     "metadata": {},
     "output_type": "execute_result"
    }
   ],
   "source": [
    "{\n",
    "    Matrix<double> A = Matrix<double>(5,5, {1, 1./2, 1./3, 1./4, 1./5,\n",
    "                                            1./2, 1./3, 1./4, 1./5, 1./6,\n",
    "                                            1./3, 1./4, 1./5, 1./6, 1./7,\n",
    "                                            1./4, 1./5, 1./6, 1./7, 1./8,\n",
    "                                            1./5, 1./6, 1./7, 1./8, 1./9});\n",
    "    std::cout << A.to_string() << \"\\n\";\n",
    "    Vector<double> b = {0, 0, 0, 0, 1};\n",
    "    std::cout << \"b = \" << b.to_string() << \"\\n\";\n",
    "    AlgebraicSolvers::LinearSystemSolver LS(A);\n",
    "    Vector<double> x = LS.solve(b);\n",
    "    std::cout << \"x = \" << x.to_string() << \"\\n\";\n",
    "    std::cout << \"Ax = \" << (A|x).to_string() << \"\\n\";\n",
    "}"
   ]
  },
  {
   "cell_type": "code",
   "execution_count": 12,
   "id": "603dfefa",
   "metadata": {},
   "outputs": [
    {
     "name": "stdout",
     "output_type": "stream",
     "text": [
      "M((2.000000, 1.000000, 0.000000, 0.000000, 0.000000, 0.000000, 0.000000, 0.000000),\n",
      "(1.000000, 2.000000, 1.000000, 0.000000, 0.000000, 0.000000, 0.000000, 0.000000),\n",
      "(0.000000, 1.000000, 2.000000, 1.000000, 0.000000, 0.000000, 0.000000, 0.000000),\n",
      "(0.000000, 0.000000, 1.000000, 2.000000, 1.000000, 0.000000, 0.000000, 0.000000),\n",
      "(0.000000, 0.000000, 0.000000, 1.000000, 2.000000, 1.000000, 0.000000, 0.000000),\n",
      "(0.000000, 0.000000, 0.000000, 0.000000, 1.000000, 2.000000, 1.000000, 0.000000),\n",
      "(0.000000, 0.000000, 0.000000, 0.000000, 0.000000, 1.000000, 2.000000, 1.000000),\n",
      "(0.000000, 0.000000, 0.000000, 0.000000, 0.000000, 0.000000, 1.000000, 2.000000))\n",
      "b = (0.111111, 0.111111, 0.333333, 0.222222, 0.222222, 0.333333, 0.111111, 0.111111)\n",
      "x = (0.111111, -0.111111, 0.222222, 0.000000, -0.000000, 0.222222, -0.111111, 0.111111)\n",
      "Ax = (0.111111, 0.111111, 0.333333, 0.222222, 0.222222, 0.333333, 0.111111, 0.111111)\n"
     ]
    },
    {
     "data": {
      "text/plain": []
     },
     "execution_count": 12,
     "metadata": {},
     "output_type": "execute_result"
    }
   ],
   "source": [
    "{\n",
    "    Matrix<double> A = Matrix<double>(8,8, {2, 1, 0, 0, 0, 0, 0, 0,\n",
    "                                            1, 2, 1, 0, 0, 0, 0, 0,\n",
    "                                            0, 1, 2, 1, 0, 0, 0, 0,\n",
    "                                            0, 0, 1, 2, 1, 0, 0, 0,\n",
    "                                            0, 0, 0, 1, 2, 1, 0, 0,\n",
    "                                            0, 0, 0, 0, 1, 2, 1, 0,\n",
    "                                            0, 0, 0, 0, 0, 1, 2, 1,\n",
    "                                            0, 0, 0, 0, 0, 0, 1, 2});\n",
    "    std::cout << A.to_string() << \"\\n\";\n",
    "    Vector<double> b = {1./9, 1./9, 1./3, 2./9, 2./9, 1./3, 1./9, 1./9};\n",
    "    std::cout << \"b = \" << b.to_string() << \"\\n\";\n",
    "    AlgebraicSolvers::LinearSystemSolver LS(A);\n",
    "    Vector<double> x = LS.solve(b);\n",
    "    std::cout << \"x = \" << x.to_string() << \"\\n\";\n",
    "    std::cout << \"Ax = \" << (A|x).to_string() << \"\\n\";\n",
    "}"
   ]
  },
  {
   "cell_type": "code",
   "execution_count": 13,
   "id": "67a8586c",
   "metadata": {},
   "outputs": [
    {
     "name": "stdout",
     "output_type": "stream",
     "text": [
      "M((2.000000, -1.000000, 0.000000, 0.000000, 0.000000, 0.000000, 0.000000, 0.000000),\n",
      "(-1.000000, 2.000000, -1.000000, 0.000000, 0.000000, 0.000000, 0.000000, 0.000000),\n",
      "(0.000000, -1.000000, 2.000000, -1.000000, 0.000000, 0.000000, 0.000000, 0.000000),\n",
      "(0.000000, 0.000000, -1.000000, 2.000000, -1.000000, 0.000000, 0.000000, 0.000000),\n",
      "(0.000000, 0.000000, 0.000000, -1.000000, 2.000000, -1.000000, 0.000000, 0.000000),\n",
      "(0.000000, 0.000000, 0.000000, 0.000000, -1.000000, 2.000000, -1.000000, 0.000000),\n",
      "(0.000000, 0.000000, 0.000000, 0.000000, 0.000000, -1.000000, 2.000000, -1.000000),\n",
      "(0.000000, 0.000000, 0.000000, 0.000000, 0.000000, 0.000000, -1.000000, 2.000000))\n",
      "b = (1.000000, 1.000000, 1.000000, 1.000000, 1.000000, 1.000000, 1.000000, 1.000000)\n",
      "x = (4.000000, 7.000000, 9.000000, 10.000000, 10.000000, 9.000000, 7.000000, 4.000000)\n",
      "Ax = (1.000000, 1.000000, 1.000000, 1.000000, 1.000000, 1.000000, 1.000000, 1.000000)\n"
     ]
    },
    {
     "data": {
      "text/plain": []
     },
     "execution_count": 13,
     "metadata": {},
     "output_type": "execute_result"
    }
   ],
   "source": [
    "{\n",
    "    Matrix<double> A = Matrix<double>(8,8, {2, -1, 0, 0, 0, 0, 0, 0,\n",
    "                                            -1, 2, -1, 0, 0, 0, 0, 0,\n",
    "                                            0, -1, 2, -1, 0, 0, 0, 0,\n",
    "                                            0, 0, -1, 2, -1, 0, 0, 0,\n",
    "                                            0, 0, 0, -1, 2, -1, 0, 0,\n",
    "                                            0, 0, 0, 0, -1, 2, -1, 0,\n",
    "                                            0, 0, 0, 0, 0, -1, 2, -1,\n",
    "                                            0, 0, 0, 0, 0, 0, -1, 2});\n",
    "    std::cout << A.to_string() << \"\\n\";\n",
    "    Vector<double> b = {1, 1, 1, 1, 1, 1, 1, 1};\n",
    "    std::cout << \"b = \" << b.to_string() << \"\\n\";\n",
    "    AlgebraicSolvers::LinearSystemSolver LS(A);\n",
    "    Vector<double> x = LS.solve(b);\n",
    "    std::cout << \"x = \" << x.to_string() << \"\\n\";\n",
    "    std::cout << \"Ax = \" << (A|x).to_string() << \"\\n\";\n",
    "}"
   ]
  },
  {
   "cell_type": "code",
   "execution_count": 17,
   "id": "d179e77d",
   "metadata": {},
   "outputs": [
    {
     "name": "stdout",
     "output_type": "stream",
     "text": [
      "M((0.000000, 9.000000, 1.000000, 0.000000, 0.000000),\n",
      "(0.000000, 0.000000, 9.000000, 1.000000, 0.000000),\n",
      "(0.000000, 0.000000, 0.000000, 9.000000, 1.000000),\n",
      "(1.000000, 0.000000, 0.000000, 0.000000, 9.000000),\n",
      "(9.000000, 1.000000, 0.000000, 0.000000, 0.000000))\n",
      "b = (1.000000, 1.000000, 1.000000, 1.000000, 1.000000)\n",
      "x = (0.100000, 0.100000, 0.100000, 0.100000, 0.100000)\n",
      "Ax = (1.000000, 1.000000, 1.000000, 1.000000, 1.000000)\n"
     ]
    },
    {
     "data": {
      "text/plain": []
     },
     "execution_count": 17,
     "metadata": {},
     "output_type": "execute_result"
    }
   ],
   "source": [
    "{\n",
    "    Matrix<double> A = Matrix<double>(5,5, {0, 9, 1, 0, 0,\n",
    "                                            0, 0, 9, 1, 0,\n",
    "                                            0, 0, 0, 9, 1,\n",
    "                                            1, 0, 0, 0, 9,\n",
    "                                            9, 1, 0, 0, 0});\n",
    "    std::cout << A.to_string() << \"\\n\";\n",
    "    Vector<double> b = {1, 1, 1, 1, 1};\n",
    "    std::cout << \"b = \" << b.to_string() << \"\\n\";\n",
    "    AlgebraicSolvers::LinearSystemSolver LS(A);\n",
    "    Vector<double> x = LS.solve(b);\n",
    "    std::cout << \"x = \" << x.to_string() << \"\\n\";\n",
    "    std::cout << \"Ax = \" << (A|x).to_string() << \"\\n\";\n",
    "}"
   ]
  },
  {
   "cell_type": "code",
   "execution_count": 15,
   "id": "2f3a517c",
   "metadata": {},
   "outputs": [
    {
     "name": "stdout",
     "output_type": "stream",
     "text": [
      "M((0.000000, 1.000000, 0.000000, 0.000000, 0.000000),\n",
      "(0.000000, 0.000000, 0.000000, 0.000000, 1.000000),\n",
      "(1.000000, 0.000000, 0.000000, 0.000000, 0.000000),\n",
      "(0.000000, 0.000000, 1.000000, 0.000000, 0.000000),\n",
      "(0.000000, 0.000000, 0.000000, 1.000000, 0.000000))\n",
      "b = (1.000000, 2.000000, 3.000000, 4.000000, 5.000000)\n",
      "x = (3.000000, 1.000000, 4.000000, 5.000000, 2.000000)\n",
      "Ax = (1.000000, 2.000000, 3.000000, 4.000000, 5.000000)\n"
     ]
    },
    {
     "data": {
      "text/plain": []
     },
     "execution_count": 15,
     "metadata": {},
     "output_type": "execute_result"
    }
   ],
   "source": [
    "{\n",
    "    Matrix<double> A = Matrix<double>(5,5, {0, 1, 0, 0, 0,\n",
    "                                            0, 0, 0, 0, 1,\n",
    "                                            1, 0, 0, 0, 0,\n",
    "                                            0, 0, 1, 0, 0,\n",
    "                                            0, 0, 0, 1, 0});\n",
    "    std::cout << A.to_string() << \"\\n\";\n",
    "    Vector<double> b = {1, 2, 3, 4, 5};\n",
    "    std::cout << \"b = \" << b.to_string() << \"\\n\";\n",
    "    AlgebraicSolvers::LinearSystemSolver LS(A);\n",
    "    Vector<double> x = LS.solve(b);\n",
    "    std::cout << \"x = \" << x.to_string() << \"\\n\";\n",
    "    std::cout << \"Ax = \" << (A|x).to_string() << \"\\n\";\n",
    "}"
   ]
  },
  {
   "cell_type": "code",
   "execution_count": null,
   "id": "5485da71",
   "metadata": {},
   "outputs": [],
   "source": []
  },
  {
   "cell_type": "markdown",
   "id": "6163e1a3",
   "metadata": {},
   "source": [
    "<h3> DualNumbers </h3>"
   ]
  },
  {
   "cell_type": "code",
   "execution_count": 59,
   "id": "f09e9a32",
   "metadata": {},
   "outputs": [
    {
     "name": "stdout",
     "output_type": "stream",
     "text": [
      "3.000000 + 2.000000ε\n",
      "-1.000000 + 1.000000ε\n"
     ]
    },
    {
     "data": {
      "text/plain": [
       "(std::basic_ostream<char, std::char_traits<char> > &) @0x7f350d4dd480\n"
      ]
     },
     "execution_count": 59,
     "metadata": {},
     "output_type": "execute_result"
    }
   ],
   "source": [
    "DualNumber<double> x(3,2);\n",
    "DualNumber<double> y(-1,1);\n",
    "std::cout << x.to_string() << \"\\n\";\n",
    "std::cout << y.to_string() << \"\\n\";"
   ]
  },
  {
   "cell_type": "code",
   "execution_count": 60,
   "id": "5580a2cf",
   "metadata": {},
   "outputs": [
    {
     "data": {
      "text/plain": [
       "(std::string) \"2.000000 + 3.000000ε\"\n"
      ]
     },
     "execution_count": 60,
     "metadata": {},
     "output_type": "execute_result"
    }
   ],
   "source": [
    "(x + y).to_string();"
   ]
  },
  {
   "cell_type": "code",
   "execution_count": 61,
   "id": "826d2bfe",
   "metadata": {},
   "outputs": [
    {
     "data": {
      "text/plain": [
       "(std::string) \"4.000000 + 1.000000ε\"\n"
      ]
     },
     "execution_count": 61,
     "metadata": {},
     "output_type": "execute_result"
    }
   ],
   "source": [
    "(x - y).to_string();"
   ]
  },
  {
   "cell_type": "code",
   "execution_count": 62,
   "id": "57b4ca23",
   "metadata": {},
   "outputs": [
    {
     "data": {
      "text/plain": [
       "(std::string) \"-3.000000 + 1.000000ε\"\n"
      ]
     },
     "execution_count": 62,
     "metadata": {},
     "output_type": "execute_result"
    }
   ],
   "source": [
    "(x * y).to_string();"
   ]
  },
  {
   "cell_type": "code",
   "execution_count": 63,
   "id": "d0e55632",
   "metadata": {},
   "outputs": [
    {
     "data": {
      "text/plain": [
       "(std::string) \"-3.000000 - 5.000000ε\"\n"
      ]
     },
     "execution_count": 63,
     "metadata": {},
     "output_type": "execute_result"
    }
   ],
   "source": [
    "(x / y).to_string();"
   ]
  },
  {
   "cell_type": "code",
   "execution_count": 64,
   "id": "0974d48a",
   "metadata": {},
   "outputs": [
    {
     "name": "stderr",
     "output_type": "stream",
     "text": [
      "input_line_67:2:31: warning: instantiation of variable 'Math::DualNumber<double>::epsilon' required here, but no definition is available [-Wundefined-var-template]\n",
      " cos(0. + DualNumber<double>::epsilon).to_string();\n",
      "                              ^\n",
      "./../Math/DualNumbers.hpp:52:36: note: forward declaration of template entity is here\n",
      "        static const DualNumber<K> epsilon;\n",
      "                                   ^\n",
      "input_line_67:2:31: note: add an explicit instantiation declaration to suppress this warning if 'Math::DualNumber<double>::epsilon' is explicitly instantiated in another translation unit\n",
      " cos(0. + DualNumber<double>::epsilon).to_string();\n",
      "                              ^\n"
     ]
    },
    {
     "data": {
      "text/plain": [
       "(std::string) \"1.000000 + -0.000000ε\"\n"
      ]
     },
     "execution_count": 64,
     "metadata": {},
     "output_type": "execute_result"
    }
   ],
   "source": [
    "cos(0. + DualNumber<double>::epsilon).to_string();"
   ]
  },
  {
   "cell_type": "code",
   "execution_count": 65,
   "id": "2f842e40",
   "metadata": {},
   "outputs": [
    {
     "data": {
      "text/plain": [
       "(std::string) \"0.000000 + 1.000000ε\"\n"
      ]
     },
     "execution_count": 65,
     "metadata": {},
     "output_type": "execute_result"
    }
   ],
   "source": [
    "sin(0. + DualNumber<double>::epsilon).to_string();"
   ]
  },
  {
   "cell_type": "code",
   "execution_count": 66,
   "id": "53982949",
   "metadata": {},
   "outputs": [
    {
     "data": {
      "text/plain": [
       "(std::string) \"1.000000 + 2.000000ε\"\n"
      ]
     },
     "execution_count": 66,
     "metadata": {},
     "output_type": "execute_result"
    }
   ],
   "source": [
    "tan(M_PI/4 + DualNumber<double>::epsilon).to_string();"
   ]
  },
  {
   "cell_type": "code",
   "execution_count": 67,
   "id": "c7029cda",
   "metadata": {},
   "outputs": [
    {
     "data": {
      "text/plain": [
       "(std::string) \"0.523599 + 1.154701ε\"\n"
      ]
     },
     "execution_count": 67,
     "metadata": {},
     "output_type": "execute_result"
    }
   ],
   "source": [
    "asin(0.5 + DualNumber<double>::epsilon).to_string();"
   ]
  },
  {
   "cell_type": "code",
   "execution_count": 68,
   "id": "0560fab8",
   "metadata": {},
   "outputs": [
    {
     "data": {
      "text/plain": [
       "(std::string) \"1.047198 - 1.154701ε\"\n"
      ]
     },
     "execution_count": 68,
     "metadata": {},
     "output_type": "execute_result"
    }
   ],
   "source": [
    "acos(0.5 + DualNumber<double>::epsilon).to_string();"
   ]
  },
  {
   "cell_type": "code",
   "execution_count": 69,
   "id": "4e6960b7",
   "metadata": {},
   "outputs": [
    {
     "data": {
      "text/plain": [
       "(std::string) \"0.463648 + 0.800000ε\"\n"
      ]
     },
     "execution_count": 69,
     "metadata": {},
     "output_type": "execute_result"
    }
   ],
   "source": [
    "atan(0.5 + DualNumber<double>::epsilon).to_string();"
   ]
  },
  {
   "cell_type": "code",
   "execution_count": 70,
   "id": "1e21d5a9",
   "metadata": {},
   "outputs": [
    {
     "data": {
      "text/plain": [
       "(std::string) \"1.127626 + 0.521095ε\"\n"
      ]
     },
     "execution_count": 70,
     "metadata": {},
     "output_type": "execute_result"
    }
   ],
   "source": [
    "cosh(0.5 + DualNumber<double>::epsilon).to_string();"
   ]
  },
  {
   "cell_type": "code",
   "execution_count": 71,
   "id": "66fb0db2",
   "metadata": {},
   "outputs": [
    {
     "data": {
      "text/plain": [
       "(std::string) \"0.521095 + 1.127626ε\"\n"
      ]
     },
     "execution_count": 71,
     "metadata": {},
     "output_type": "execute_result"
    }
   ],
   "source": [
    "sinh(0.5 + DualNumber<double>::epsilon).to_string();"
   ]
  },
  {
   "cell_type": "code",
   "execution_count": 72,
   "id": "ecd5ac12",
   "metadata": {},
   "outputs": [
    {
     "data": {
      "text/plain": [
       "(std::string) \"1.127626 + 0.786448ε\"\n"
      ]
     },
     "execution_count": 72,
     "metadata": {},
     "output_type": "execute_result"
    }
   ],
   "source": [
    "tanh(0.5 + DualNumber<double>::epsilon).to_string();"
   ]
  },
  {
   "cell_type": "code",
   "execution_count": 73,
   "id": "e88bf7cb",
   "metadata": {},
   "outputs": [
    {
     "data": {
      "text/plain": [
       "(std::string) \"1.566799 + 0.436436ε\"\n"
      ]
     },
     "execution_count": 73,
     "metadata": {},
     "output_type": "execute_result"
    }
   ],
   "source": [
    "acosh(2.5 + DualNumber<double>::epsilon).to_string();"
   ]
  },
  {
   "cell_type": "code",
   "execution_count": 74,
   "id": "050ac70a",
   "metadata": {},
   "outputs": [
    {
     "data": {
      "text/plain": [
       "(std::string) \"0.481212 + 0.894427ε\"\n"
      ]
     },
     "execution_count": 74,
     "metadata": {},
     "output_type": "execute_result"
    }
   ],
   "source": [
    "asinh(0.5 + DualNumber<double>::epsilon).to_string();"
   ]
  },
  {
   "cell_type": "code",
   "execution_count": 75,
   "id": "4dae4355",
   "metadata": {},
   "outputs": [
    {
     "data": {
      "text/plain": [
       "(std::string) \"0.549306 + 1.333333ε\"\n"
      ]
     },
     "execution_count": 75,
     "metadata": {},
     "output_type": "execute_result"
    }
   ],
   "source": [
    "atanh(0.5 + DualNumber<double>::epsilon).to_string();"
   ]
  },
  {
   "cell_type": "code",
   "execution_count": 76,
   "id": "de7cba20",
   "metadata": {},
   "outputs": [
    {
     "data": {
      "text/plain": [
       "(std::string) \"2.718282 + 2.718282ε\"\n"
      ]
     },
     "execution_count": 76,
     "metadata": {},
     "output_type": "execute_result"
    }
   ],
   "source": [
    "exp(1. + DualNumber<double>::epsilon).to_string();"
   ]
  },
  {
   "cell_type": "code",
   "execution_count": 77,
   "id": "659f8da9",
   "metadata": {},
   "outputs": [
    {
     "data": {
      "text/plain": [
       "(std::string) \"0.000000 + 1.000000ε\"\n"
      ]
     },
     "execution_count": 77,
     "metadata": {},
     "output_type": "execute_result"
    }
   ],
   "source": [
    "log(1. + DualNumber<double>::epsilon).to_string();"
   ]
  },
  {
   "cell_type": "code",
   "execution_count": 78,
   "id": "642b8138",
   "metadata": {},
   "outputs": [
    {
     "data": {
      "text/plain": [
       "(std::string) \"1.000000 + 0.043429ε\"\n"
      ]
     },
     "execution_count": 78,
     "metadata": {},
     "output_type": "execute_result"
    }
   ],
   "source": [
    "log10(10. + DualNumber<double>::epsilon).to_string();"
   ]
  },
  {
   "cell_type": "code",
   "execution_count": 79,
   "id": "a7d9de4a",
   "metadata": {},
   "outputs": [
    {
     "data": {
      "text/plain": [
       "(std::string) \"1024.000000 + 709.782713ε\"\n"
      ]
     },
     "execution_count": 79,
     "metadata": {},
     "output_type": "execute_result"
    }
   ],
   "source": [
    "exp2(10. + DualNumber<double>::epsilon).to_string();"
   ]
  },
  {
   "cell_type": "code",
   "execution_count": 80,
   "id": "742064df",
   "metadata": {},
   "outputs": [
    {
     "data": {
      "text/plain": [
       "(std::string) \"0.105171 + 1.105171ε\"\n"
      ]
     },
     "execution_count": 80,
     "metadata": {},
     "output_type": "execute_result"
    }
   ],
   "source": [
    "expm1(0.1 + DualNumber<double>::epsilon).to_string();"
   ]
  },
  {
   "cell_type": "code",
   "execution_count": 81,
   "id": "32b433cc",
   "metadata": {},
   "outputs": [
    {
     "data": {
      "text/plain": [
       "(std::string) \"0.095310 + 0.909091ε\"\n"
      ]
     },
     "execution_count": 81,
     "metadata": {},
     "output_type": "execute_result"
    }
   ],
   "source": [
    "log1p(0.1 + DualNumber<double>::epsilon).to_string();"
   ]
  },
  {
   "cell_type": "code",
   "execution_count": 82,
   "id": "8986c1c3",
   "metadata": {},
   "outputs": [
    {
     "data": {
      "text/plain": [
       "(std::string) \"-3.321928 + 14.426950ε\"\n"
      ]
     },
     "execution_count": 82,
     "metadata": {},
     "output_type": "execute_result"
    }
   ],
   "source": [
    "log2(0.1 + DualNumber<double>::epsilon).to_string();"
   ]
  },
  {
   "cell_type": "code",
   "execution_count": 83,
   "id": "2d38c82e",
   "metadata": {},
   "outputs": [
    {
     "data": {
      "text/plain": [
       "(std::string) \"-4.000000 + 14.426950ε\"\n"
      ]
     },
     "execution_count": 83,
     "metadata": {},
     "output_type": "execute_result"
    }
   ],
   "source": [
    "logb(0.1 + DualNumber<double>::epsilon).to_string();"
   ]
  },
  {
   "cell_type": "code",
   "execution_count": 84,
   "id": "4f8bbd28",
   "metadata": {},
   "outputs": [
    {
     "data": {
      "text/plain": [
       "(std::string) \"9.000000 + 6.000000ε\"\n"
      ]
     },
     "execution_count": 84,
     "metadata": {},
     "output_type": "execute_result"
    }
   ],
   "source": [
    "pow(3. + DualNumber<double>::epsilon, 2.).to_string();"
   ]
  },
  {
   "cell_type": "code",
   "execution_count": 85,
   "id": "f8ed0ebe",
   "metadata": {},
   "outputs": [
    {
     "data": {
      "text/plain": [
       "(std::string) \"9.000000 + 9.887511ε\"\n"
      ]
     },
     "execution_count": 85,
     "metadata": {},
     "output_type": "execute_result"
    }
   ],
   "source": [
    "pow(3., 2. + DualNumber<double>::epsilon).to_string();"
   ]
  },
  {
   "cell_type": "code",
   "execution_count": 86,
   "id": "b1419861",
   "metadata": {},
   "outputs": [
    {
     "data": {
      "text/plain": [
       "(std::string) \"1.414214 + 0.353553ε\"\n"
      ]
     },
     "execution_count": 86,
     "metadata": {},
     "output_type": "execute_result"
    }
   ],
   "source": [
    "sqrt(2. + DualNumber<double>::epsilon).to_string();"
   ]
  },
  {
   "cell_type": "code",
   "execution_count": 87,
   "id": "7e0a8779",
   "metadata": {},
   "outputs": [
    {
     "data": {
      "text/plain": [
       "(std::string) \"1.259921 + 0.209987ε\"\n"
      ]
     },
     "execution_count": 87,
     "metadata": {},
     "output_type": "execute_result"
    }
   ],
   "source": [
    "cbrt(2. + DualNumber<double>::epsilon).to_string();"
   ]
  },
  {
   "cell_type": "code",
   "execution_count": 88,
   "id": "51ed1dd7",
   "metadata": {},
   "outputs": [
    {
     "data": {
      "text/plain": [
       "(std::string) \"0.520500 + 0.878783ε\"\n"
      ]
     },
     "execution_count": 88,
     "metadata": {},
     "output_type": "execute_result"
    }
   ],
   "source": [
    "erf(0.5 + DualNumber<double>::epsilon).to_string();"
   ]
  },
  {
   "cell_type": "code",
   "execution_count": 89,
   "id": "a51ae4d4",
   "metadata": {},
   "outputs": [
    {
     "data": {
      "text/plain": [
       "(std::string) \"0.479500 - 0.878783ε\"\n"
      ]
     },
     "execution_count": 89,
     "metadata": {},
     "output_type": "execute_result"
    }
   ],
   "source": [
    "erfc(0.5 + DualNumber<double>::epsilon).to_string();"
   ]
  },
  {
   "cell_type": "code",
   "execution_count": 90,
   "id": "dd25450e",
   "metadata": {},
   "outputs": [
    {
     "data": {
      "text/plain": [
       "(std::string) \"0.500000 + 1.000000ε\"\n"
      ]
     },
     "execution_count": 90,
     "metadata": {},
     "output_type": "execute_result"
    }
   ],
   "source": [
    "fabs(0.5 + DualNumber<double>::epsilon).to_string();"
   ]
  },
  {
   "cell_type": "code",
   "execution_count": 91,
   "id": "8aa05a43",
   "metadata": {},
   "outputs": [
    {
     "data": {
      "text/plain": [
       "(std::string) \"0.500000 - 1.000000ε\"\n"
      ]
     },
     "execution_count": 91,
     "metadata": {},
     "output_type": "execute_result"
    }
   ],
   "source": [
    "fabs(-0.5 + DualNumber<double>::epsilon).to_string();"
   ]
  },
  {
   "cell_type": "markdown",
   "id": "5e1f97a9",
   "metadata": {},
   "source": [
    "<h3> AlgebraicSolvers </h3>"
   ]
  },
  {
   "cell_type": "code",
   "execution_count": 92,
   "id": "dbddfa42",
   "metadata": {},
   "outputs": [
    {
     "name": "stdout",
     "output_type": "stream",
     "text": [
      "1.41421\n",
      "1.41421\n",
      "1.41421\n",
      "1.41421\n"
     ]
    },
    {
     "data": {
      "text/plain": []
     },
     "execution_count": 92,
     "metadata": {},
     "output_type": "execute_result"
    }
   ],
   "source": [
    "{\n",
    "    auto f = [](double x){return x*x - 2;};\n",
    "    auto df = [](double x){return 2*x;};\n",
    "    auto fD = [](DualNumber<double> x){return x*x - 2.;};\n",
    "    std::cout << AlgebraicSolvers::bisection(f, 0, 2, 1000, 1e-6, 1e-6) <<\"\\n\";\n",
    "    std::cout << AlgebraicSolvers::secant(f, 1, 2, 1000, 1e-6, 1e-6) <<\"\\n\";\n",
    "    std::cout << AlgebraicSolvers::newton_raphson(f, df, 2, 1000, 1e-6, 1e-6) <<\"\\n\";\n",
    "    std::cout << AlgebraicSolvers::newton_raphson(fD, 2, 1000, 1e-6, 1e-6) <<\"\\n\";\n",
    "}"
   ]
  },
  {
   "cell_type": "code",
   "execution_count": 93,
   "id": "f482ec58",
   "metadata": {},
   "outputs": [
    {
     "name": "stdout",
     "output_type": "stream",
     "text": [
      "2.71828\n",
      "2.71828\n",
      "2.71828\n",
      "2.71828\n"
     ]
    },
    {
     "data": {
      "text/plain": []
     },
     "execution_count": 93,
     "metadata": {},
     "output_type": "execute_result"
    }
   ],
   "source": [
    "{\n",
    "    auto f = [](double x){return log(x) - 1;};\n",
    "    auto df = [](double x){return 1/x;};\n",
    "    auto fD = [](DualNumber<double> x){return log(x) - 1.;};\n",
    "    std::cout << AlgebraicSolvers::bisection(f, 0, 3, 1000, 1e-6, 1e-6) <<\"\\n\";\n",
    "    std::cout << AlgebraicSolvers::secant(f, 1, 2, 1000, 1e-6, 1e-6) <<\"\\n\";\n",
    "    std::cout << AlgebraicSolvers::newton_raphson(f, df, 2, 1000, 1e-6, 1e-6) <<\"\\n\";\n",
    "    std::cout << AlgebraicSolvers::newton_raphson(fD, 2, 1000, 1e-6, 1e-6) <<\"\\n\";\n",
    "}"
   ]
  },
  {
   "cell_type": "code",
   "execution_count": null,
   "id": "98064654",
   "metadata": {},
   "outputs": [],
   "source": []
  },
  {
   "cell_type": "markdown",
   "id": "b44e4925",
   "metadata": {},
   "source": [
    "<h3> ODE Solvers </h3>"
   ]
  },
  {
   "cell_type": "code",
   "execution_count": 94,
   "id": "indie-madness",
   "metadata": {},
   "outputs": [
    {
     "name": "stdout",
     "output_type": "stream",
     "text": [
      "exacta\teuler\trk\n",
      "1\t(1.000000)\t(1.000000)\n",
      "0.99005\t(0.990000)\t(0.990050)\n",
      "0.980199\t(0.980100)\t(0.980199)\n",
      "0.970446\t(0.970299)\t(0.970446)\n",
      "0.960789\t(0.960596)\t(0.960789)\n",
      "0.951229\t(0.950990)\t(0.951229)\n",
      "0.941765\t(0.941480)\t(0.941765)\n",
      "0.932394\t(0.932065)\t(0.932394)\n",
      "0.923116\t(0.922745)\t(0.923116)\n",
      "0.913931\t(0.913517)\t(0.913931)\n",
      "0.904837\t(0.904382)\t(0.904837)\n",
      "0.895834\t(0.895338)\t(0.895834)\n",
      "0.88692\t(0.886385)\t(0.886920)\n",
      "0.878095\t(0.877521)\t(0.878095)\n",
      "0.869358\t(0.868746)\t(0.869358)\n",
      "0.860708\t(0.860058)\t(0.860708)\n",
      "0.852144\t(0.851458)\t(0.852144)\n",
      "0.843665\t(0.842943)\t(0.843665)\n",
      "0.83527\t(0.834514)\t(0.835270)\n",
      "0.826959\t(0.826169)\t(0.826959)\n",
      "0.818731\t(0.817907)\t(0.818731)\n",
      "0.810584\t(0.809728)\t(0.810584)\n",
      "0.802519\t(0.801631)\t(0.802519)\n",
      "0.794534\t(0.793614)\t(0.794534)\n",
      "0.786628\t(0.785678)\t(0.786628)\n",
      "0.778801\t(0.777821)\t(0.778801)\n",
      "0.771052\t(0.770043)\t(0.771052)\n",
      "0.763379\t(0.762343)\t(0.763379)\n",
      "0.755784\t(0.754719)\t(0.755784)\n",
      "0.748264\t(0.747172)\t(0.748264)\n",
      "0.740818\t(0.739700)\t(0.740818)\n",
      "0.733447\t(0.732303)\t(0.733447)\n",
      "0.726149\t(0.724980)\t(0.726149)\n",
      "0.718924\t(0.717731)\t(0.718924)\n",
      "0.71177\t(0.710553)\t(0.711770)\n",
      "0.704688\t(0.703448)\t(0.704688)\n",
      "0.697676\t(0.696413)\t(0.697676)\n",
      "0.690734\t(0.689449)\t(0.690734)\n",
      "0.683861\t(0.682555)\t(0.683861)\n",
      "0.677057\t(0.675729)\t(0.677057)\n"
     ]
    },
    {
     "data": {
      "text/plain": []
     },
     "execution_count": 94,
     "metadata": {},
     "output_type": "execute_result"
    }
   ],
   "source": [
    "{\n",
    "    auto f = [] (const Vector<double>& x) -> Vector<double>{return -x;};\n",
    "    Vector<double> x_0({1});\n",
    "    Vector<double> x_euler = x_0;\n",
    "    Vector<double> x_rk = x_0;\n",
    "    double dt = 0.01;\n",
    "    std::cout << \"exacta\\teuler\\trk\\n\";\n",
    "    for (unsigned int i = 0; i < 40; ++i)\n",
    "    {\n",
    "        std::cout << exp(-(i*dt)) << \"\\t\" << x_euler << \"\\t\" << x_rk << \"\\n\";\n",
    "        x_euler = euler_explicit(x_euler, f, dt);\n",
    "        x_rk = runge_kutta_order_4(x_rk, f, dt);\n",
    "    }\n",
    "}"
   ]
  },
  {
   "cell_type": "code",
   "execution_count": 95,
   "id": "macro-design",
   "metadata": {},
   "outputs": [
    {
     "name": "stdout",
     "output_type": "stream",
     "text": [
      "t\t\texacta\t\trkf\n",
      "0\t\t1\t\t(1.000000)\n",
      "0.01\t\t1.01005\t\t(1.010050)\n",
      "0.225272\t\t1.25266\t\t(1.252663)\n",
      "0.443597\t\t1.5583\t\t(1.558303)\n",
      "0.652774\t\t1.92086\t\t(1.920862)\n",
      "0.852865\t\t2.34636\t\t(2.346359)\n",
      "1.04462\t\t2.84231\t\t(2.842305)\n",
      "1.22872\t\t3.41685\t\t(3.416852)\n",
      "1.40579\t\t4.07874\t\t(4.078739)\n",
      "1.57636\t\t4.83731\t\t(4.837309)\n",
      "1.74091\t\t5.70252\t\t(5.702522)\n",
      "1.89986\t\t6.68498\t\t(6.684978)\n",
      "2.0536\t\t7.79594\t\t(7.795937)\n",
      "2.20247\t\t9.04734\t\t(9.047333)\n",
      "2.34677\t\t10.4518\t\t(10.451794)\n",
      "2.48679\t\t12.0227\t\t(12.022663)\n",
      "2.62278\t\t13.774\t\t(13.774014)\n",
      "2.75498\t\t15.7207\t\t(15.720673)\n",
      "2.88358\t\t17.8782\t\t(17.878231)\n",
      "3.0088\t\t20.2631\t\t(20.263071)\n",
      "3.1308\t\t22.8924\t\t(22.892378)\n",
      "3.24976\t\t25.7842\t\t(25.784163)\n",
      "3.36582\t\t28.9573\t\t(28.957281)\n",
      "3.47913\t\t32.4315\t\t(32.431444)\n",
      "3.58981\t\t36.2273\t\t(36.227247)\n",
      "3.69799\t\t40.3662\t\t(40.366182)\n",
      "3.80378\t\t44.8707\t\t(44.870655)\n",
      "3.90729\t\t49.764\t\t(49.764010)\n",
      "4.00862\t\t55.0706\t\t(55.070541)\n",
      "4.10785\t\t60.8155\t\t(60.815514)\n",
      "4.20507\t\t67.0252\t\t(67.025185)\n",
      "4.30037\t\t73.7269\t\t(73.726818)\n",
      "4.39382\t\t80.9487\t\t(80.948700)\n",
      "4.48549\t\t88.7202\t\t(88.720166)\n",
      "4.57545\t\t97.0717\t\t(97.071611)\n",
      "4.66377\t\t106.035\t\t(106.034513)\n",
      "4.75049\t\t115.642\t\t(115.641447)\n",
      "4.8357\t\t125.926\t\t(125.926106)\n",
      "4.91942\t\t136.923\t\t(136.923319)\n",
      "5.00172\t\t148.669\t\t(148.669068)\n"
     ]
    },
    {
     "data": {
      "text/plain": []
     },
     "execution_count": 95,
     "metadata": {},
     "output_type": "execute_result"
    }
   ],
   "source": [
    "{\n",
    "    auto f = [] (const Vector<double>& x) -> Vector<double>{return x;};\n",
    "    Vector<double> x_0({1});\n",
    "    double dt = 0.01;\n",
    "    double t = 0;\n",
    "    Vector<double> x = x_0;\n",
    "    std::cout << \"t\\t\\texacta\\t\\trkf\\n\";\n",
    "    for (unsigned int i = 0; i < 40; ++i)\n",
    "    {\n",
    "        std::cout << t << \"\\t\\t\" << exp(t) << \"\\t\\t\" << x << \"\\n\";\n",
    "        runge_kutta_fehlberg(x, t, dt, f, Vector<double>({1e-6}));\n",
    "    }\n",
    "}"
   ]
  },
  {
   "cell_type": "code",
   "execution_count": null,
   "id": "ec24b77f",
   "metadata": {},
   "outputs": [],
   "source": []
  },
  {
   "cell_type": "markdown",
   "id": "1d30c395",
   "metadata": {},
   "source": [
    "<h3> Integration </h3>"
   ]
  },
  {
   "cell_type": "code",
   "execution_count": 96,
   "id": "bf46498e",
   "metadata": {},
   "outputs": [
    {
     "name": "stdout",
     "output_type": "stream",
     "text": [
      "0.5\n",
      "0.5\n",
      "0.5\n"
     ]
    },
    {
     "data": {
      "text/plain": []
     },
     "execution_count": 96,
     "metadata": {},
     "output_type": "execute_result"
    }
   ],
   "source": [
    "{\n",
    "    auto f = [](double x){return x;};\n",
    "    std::cout << rectangle_rule(f, 0, 1, 10) << \"\\n\";\n",
    "    std::cout << trapezoidal_rule(f, 0, 1, 10) << \"\\n\";\n",
    "    std::cout << Gauss_Konrad_G7_K15(f, 0, 1, 1e-6) << \"\\n\";\n",
    "}"
   ]
  },
  {
   "cell_type": "code",
   "execution_count": 97,
   "id": "9ea1ea00",
   "metadata": {},
   "outputs": [
    {
     "name": "stdout",
     "output_type": "stream",
     "text": [
      "0.3325\n",
      "0.335\n",
      "0.333333\n"
     ]
    },
    {
     "data": {
      "text/plain": []
     },
     "execution_count": 97,
     "metadata": {},
     "output_type": "execute_result"
    }
   ],
   "source": [
    "{\n",
    "    auto f = [](double x){return x*x;};\n",
    "    std::cout << rectangle_rule(f, 0, 1, 10) << \"\\n\";\n",
    "    std::cout << trapezoidal_rule(f, 0, 1, 10) << \"\\n\";\n",
    "    std::cout << Gauss_Konrad_G7_K15(f, 0, 1, 1e-6) << \"\\n\";\n",
    "}"
   ]
  },
  {
   "cell_type": "code",
   "execution_count": 98,
   "id": "4b891886",
   "metadata": {},
   "outputs": [
    {
     "name": "stdout",
     "output_type": "stream",
     "text": [
      "0.333325\n",
      "0.33335\n",
      "0.333333\n"
     ]
    },
    {
     "data": {
      "text/plain": []
     },
     "execution_count": 98,
     "metadata": {},
     "output_type": "execute_result"
    }
   ],
   "source": [
    "{\n",
    "    auto f = [](double x){return x*x;};\n",
    "    std::cout << rectangle_rule(f, 0, 1, 100) << \"\\n\";\n",
    "    std::cout << trapezoidal_rule(f, 0, 1, 100) << \"\\n\";\n",
    "    std::cout << Gauss_Konrad_G7_K15(f, 0, 1, 1e-6) << \"\\n\";\n",
    "}"
   ]
  },
  {
   "cell_type": "code",
   "execution_count": 99,
   "id": "6a6eb5e1",
   "metadata": {},
   "outputs": [
    {
     "name": "stdout",
     "output_type": "stream",
     "text": [
      "2.00825\n",
      "1.98352\n",
      "2\n"
     ]
    },
    {
     "data": {
      "text/plain": []
     },
     "execution_count": 99,
     "metadata": {},
     "output_type": "execute_result"
    }
   ],
   "source": [
    "{\n",
    "    auto f = [](double x){return sin(x);};\n",
    "    std::cout << rectangle_rule(f, 0, M_PI, 10) << \"\\n\";\n",
    "    std::cout << trapezoidal_rule(f, 0, M_PI, 10) << \"\\n\";\n",
    "    std::cout << Gauss_Konrad_G7_K15(f, 0, M_PI, 1e-6) << \"\\n\";\n",
    "}"
   ]
  },
  {
   "cell_type": "code",
   "execution_count": 100,
   "id": "ac94f6cc",
   "metadata": {},
   "outputs": [
    {
     "name": "stdout",
     "output_type": "stream",
     "text": [
      "2.00008\n",
      "1.99984\n",
      "2\n"
     ]
    },
    {
     "data": {
      "text/plain": []
     },
     "execution_count": 100,
     "metadata": {},
     "output_type": "execute_result"
    }
   ],
   "source": [
    "{\n",
    "    auto f = [](double x){return sin(x);};\n",
    "    std::cout << rectangle_rule(f, 0, M_PI, 100) << \"\\n\";\n",
    "    std::cout << trapezoidal_rule(f, 0, M_PI, 100) << \"\\n\";\n",
    "    std::cout << Gauss_Konrad_G7_K15(f, 0, M_PI, 1e-6) << \"\\n\";\n",
    "}"
   ]
  },
  {
   "cell_type": "code",
   "execution_count": 101,
   "id": "9d88d0ee",
   "metadata": {},
   "outputs": [
    {
     "name": "stdout",
     "output_type": "stream",
     "text": [
      "0.886227\n",
      "0.886135\n",
      "0.886319\n",
      "0.886227\n"
     ]
    },
    {
     "data": {
      "text/plain": []
     },
     "execution_count": 101,
     "metadata": {},
     "output_type": "execute_result"
    }
   ],
   "source": [
    "{\n",
    "    auto f = [](double x){return exp(-x*x);};\n",
    "    std::cout << sqrt(M_PI) / 2 << \"\\n\";\n",
    "    std::cout << rectangle_rule(f, 0, 10, 10) << \"\\n\";\n",
    "    std::cout << trapezoidal_rule(f, 0, 10, 10) << \"\\n\";\n",
    "    std::cout << Gauss_Konrad_G7_K15(f, 0, 10, 1e-6) << \"\\n\";\n",
    "}"
   ]
  },
  {
   "cell_type": "code",
   "execution_count": null,
   "id": "b9bc95a0",
   "metadata": {},
   "outputs": [],
   "source": []
  },
  {
   "cell_type": "code",
   "execution_count": null,
   "id": "86e1fc3b",
   "metadata": {},
   "outputs": [],
   "source": []
  }
 ],
 "metadata": {
  "kernelspec": {
   "display_name": "C++14",
   "language": "C++",
   "name": "cling-cpp14"
  },
  "language_info": {
   "codemirror_mode": "c++",
   "file_extension": ".c++",
   "mimetype": "text/x-c++src",
   "name": "c++"
  }
 },
 "nbformat": 4,
 "nbformat_minor": 5
}
