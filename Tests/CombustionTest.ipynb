{
 "cells": [
  {
   "cell_type": "code",
   "execution_count": 1,
   "id": "1002400b",
   "metadata": {},
   "outputs": [
    {
     "data": {
      "text/plain": []
     },
     "execution_count": 1,
     "metadata": {},
     "output_type": "execute_result"
    }
   ],
   "source": [
    ".L ../Build/Combustion.so"
   ]
  },
  {
   "cell_type": "code",
   "execution_count": 2,
   "id": "00f4d7b4",
   "metadata": {},
   "outputs": [
    {
     "data": {
      "text/plain": []
     },
     "execution_count": 2,
     "metadata": {},
     "output_type": "execute_result"
    }
   ],
   "source": [
    "#include \"../Simulation.hpp\"\n",
    "#include \"../Solvers/Gas/GasSolvers.hpp\"\n",
    "#include \"../Solvers/Gas/ExactSteadySolver.hpp\"\n",
    "#include \"../Solvers/Rocket/RocketSolver.hpp\"\n",
    "#include \"../Chemistry/Reaction.hpp\"\n",
    "#include \"../Math/Vector.hpp\"\n",
    "#include \"../CPGF/Plot2d/LinePlot.hpp\"\n",
    "#include <iostream>\n",
    "#include <iomanip>\n",
    "#include <thread>\n",
    "#include <cmath>"
   ]
  },
  {
   "cell_type": "code",
   "execution_count": 3,
   "id": "0d9ee186",
   "metadata": {},
   "outputs": [
    {
     "data": {
      "text/plain": []
     },
     "execution_count": 3,
     "metadata": {},
     "output_type": "execute_result"
    }
   ],
   "source": [
    "using namespace Chemistry;"
   ]
  },
  {
   "cell_type": "code",
   "execution_count": 4,
   "id": "a8bac1d4",
   "metadata": {},
   "outputs": [
    {
     "data": {
      "text/plain": []
     },
     "execution_count": 4,
     "metadata": {},
     "output_type": "execute_result"
    }
   ],
   "source": [
    "using namespace Math;"
   ]
  },
  {
   "cell_type": "code",
   "execution_count": 5,
   "id": "e659bbb7",
   "metadata": {},
   "outputs": [
    {
     "data": {
      "text/plain": []
     },
     "execution_count": 5,
     "metadata": {},
     "output_type": "execute_result"
    }
   ],
   "source": [
    "using namespace Utilities;"
   ]
  },
  {
   "cell_type": "code",
   "execution_count": 6,
   "id": "9f95b66d",
   "metadata": {},
   "outputs": [
    {
     "data": {
      "text/plain": []
     },
     "execution_count": 6,
     "metadata": {},
     "output_type": "execute_result"
    }
   ],
   "source": [
    "using namespace CPGF::Plot2d;"
   ]
  },
  {
   "cell_type": "code",
   "execution_count": 7,
   "id": "f519af57",
   "metadata": {},
   "outputs": [
    {
     "data": {
      "text/plain": []
     },
     "execution_count": 7,
     "metadata": {},
     "output_type": "execute_result"
    }
   ],
   "source": [
    "using namespace CPGF;"
   ]
  },
  {
   "cell_type": "code",
   "execution_count": 5,
   "id": "4d43d37c",
   "metadata": {},
   "outputs": [
    {
     "name": "stdout",
     "output_type": "stream",
     "text": [
      "Begin SolidGasReaction\n",
      "\tk_s = 0.000000\n",
      "\tcV_s = 0.000000\n",
      "\tcV_g = 718.000000\n",
      "\tR_g = 287.000000\n",
      "\tγ = 1.399721\n",
      "\tE_a = 0.000000\n",
      "\tP_0 = 101325.000000\n",
      "\tΔH = 0.000000\n",
      "\tmodel = F0\n",
      "End SolidGasReaction\n"
     ]
    },
    {
     "data": {
      "text/plain": []
     },
     "execution_count": 5,
     "metadata": {},
     "output_type": "execute_result"
    }
   ],
   "source": [
    "{\n",
    "    SolidGasReaction QR(0, 0, 718, 287, 0, 0, 101325, 0, SolidGasReactionModel::F0);\n",
    "    std::cout << QR.to_string() << \"\\n\";\n",
    "}"
   ]
  },
  {
   "cell_type": "code",
   "execution_count": 6,
   "id": "0617d351",
   "metadata": {},
   "outputs": [
    {
     "name": "stdout",
     "output_type": "stream",
     "text": [
      "Begin Cell\n",
      "\taddress = 0x7fc8e10efbc0\n",
      "\tleft_neighbour = (nil)\n",
      "\tright_neighbour = (nil)\n",
      "\tcell_type = GAS\n",
      "\tU = (0.000000, 0.000000, 0.000000)\n",
      "\ta = 0.000000\n",
      "\tb = 1.000000\n",
      "\tA = 1.000000\n",
      "Begin SolidGasReaction\n",
      "\tk_s = 0.000000\n",
      "\tcV_s = 0.000000\n",
      "\tcV_g = 718.000000\n",
      "\tR_g = 287.000000\n",
      "\tγ = 1.399721\n",
      "\tE_a = 0.000000\n",
      "\tP_0 = 101325.000000\n",
      "\tΔH = 0.000000\n",
      "\tmodel = F0\n",
      "End SolidGasReaction\n",
      "\tρ = 0.000000\n",
      "\tc = -nan\n",
      "\tρ_s = 0.000000\n",
      "\tw_s = -nan\n",
      "\tρ_g = 0.000000\n",
      "\tw_g = -nan\n",
      "\tv = 0.000000\n",
      "\tQ_dot = 0.000000\n",
      "\tT = -nan\n",
      "\tP = -nan\n",
      "\tH = -nan\n",
      "\tE = -nan\n",
      "End Cell\n"
     ]
    },
    {
     "data": {
      "text/plain": []
     },
     "execution_count": 6,
     "metadata": {},
     "output_type": "execute_result"
    }
   ],
   "source": [
    "{\n",
    "    SolidGasReaction QR(0, 0, 718, 287, 0, 0, 101325, 0, SolidGasReactionModel::F0);\n",
    "    Cell C(CellType::GAS, Vector<double>({0,0,0}), 0, 1, 1, QR);\n",
    "    std::cout << C.to_string() << \"\\n\";\n",
    "}"
   ]
  },
  {
   "cell_type": "code",
   "execution_count": 9,
   "id": "88db28ce",
   "metadata": {},
   "outputs": [
    {
     "name": "stdout",
     "output_type": "stream",
     "text": [
      "0.1\n"
     ]
    },
    {
     "data": {
      "text/plain": []
     },
     "execution_count": 9,
     "metadata": {},
     "output_type": "execute_result"
    }
   ],
   "source": [
    "{\n",
    "    Mesh mesh;\n",
    "    std::cout << mesh.detail_subdivide_threshold << \"\\n\";\n",
    "    SolidGasReaction QR(0, 0, 718, 287, 0, 0, 101325, 0, SolidGasReactionModel::F0);\n",
    "    Cell* L = nullptr;\n",
    "    Cell* C = nullptr;\n",
    "    Cell* first = nullptr;\n",
    "    for (unsigned int i = 0; i < 10; i++)\n",
    "    {\n",
    "        L = C;\n",
    "        C = new Cell(CellType::GAS, Vector<double>({0,0,0}), 0, 1, 1, QR);\n",
    "        if (i > 0)\n",
    "        {\n",
    "            C->left_neighbour = L;\n",
    "            L->right_neighbour = C;\n",
    "        }\n",
    "        else\n",
    "        {\n",
    "            first = C;\n",
    "        }\n",
    "    }\n",
    "    mesh = Mesh(first, C);\n",
    "}"
   ]
  },
  {
   "cell_type": "code",
   "execution_count": 18,
   "id": "75123ef8",
   "metadata": {},
   "outputs": [
    {
     "name": "stdout",
     "output_type": "stream",
     "text": [
      "0"
     ]
    },
    {
     "data": {
      "text/plain": []
     },
     "execution_count": 18,
     "metadata": {},
     "output_type": "execute_result"
    }
   ],
   "source": [
    "{\n",
    "    std::cout << (unsigned int)((CellType)0);\n",
    "}"
   ]
  },
  {
   "cell_type": "markdown",
   "id": "84038076",
   "metadata": {},
   "source": [
    "Tests with mesh arrays"
   ]
  },
  {
   "cell_type": "code",
   "execution_count": null,
   "id": "a1a0de93",
   "metadata": {},
   "outputs": [],
   "source": [
    "{\n",
    "    FileArray<Mesh> mesh(\"hola3.dat\");\n",
    "    Mesh instant_mesh;\n",
    "    mesh.push_back(instant_mesh);\n",
    "}"
   ]
  },
  {
   "cell_type": "code",
   "execution_count": null,
   "id": "d8fbd8b5",
   "metadata": {},
   "outputs": [],
   "source": []
  },
  {
   "cell_type": "markdown",
   "id": "26519582",
   "metadata": {},
   "source": [
    "Values calculator"
   ]
  },
  {
   "cell_type": "code",
   "execution_count": 27,
   "id": "c7b5f95e",
   "metadata": {},
   "outputs": [
    {
     "name": "stdout",
     "output_type": "stream",
     "text": [
      "T = 294.6956734819336, P = 187894.3684832251, rho = 2.218805571849392, v = 103.2938638373808, F = 932.845070324472, H = 301724.1379310346\n"
     ]
    },
    {
     "data": {
      "text/plain": []
     },
     "execution_count": 27,
     "metadata": {},
     "output_type": "execute_result"
    }
   ],
   "source": [
    "{\n",
    "    double M = 0.2999944686889648;\n",
    "    double A = 4.0702;\n",
    "    double rho_0 = 2.32;\n",
    "    double P_0 = 200000;\n",
    "    double T_0 = 300;\n",
    "    double gamma = 1.4;\n",
    "    \n",
    "    double T = T_0 / (1 + (gamma-1)/2*M*M);\n",
    "    double P = P_0 / pow(1 + (gamma-1)/2*M*M, gamma/(gamma - 1));\n",
    "    double rho = rho_0 / pow(1 + (gamma-1)/2*M*M, 1/(gamma - 1));\n",
    "    double v = M * sqrt(gamma*P/rho);\n",
    "    double F = rho*v*A;\n",
    "    double H = gamma / (gamma - 1) * P_0/rho_0;\n",
    "    \n",
    "    std::cout << std::setprecision(16) << \"T = \" << T << \", P = \" << P << \", rho = \" << rho << \", v = \" << v << \", F = \" << F\n",
    "        << \", H = \" << H << \"\\n\";\n",
    "}"
   ]
  },
  {
   "cell_type": "code",
   "execution_count": 26,
   "id": "d75e8920",
   "metadata": {},
   "outputs": [
    {
     "name": "stdout",
     "output_type": "stream",
     "text": [
      "0.2999944686889648\n"
     ]
    },
    {
     "data": {
      "text/plain": []
     },
     "execution_count": 26,
     "metadata": {},
     "output_type": "execute_result"
    }
   ],
   "source": [
    "{\n",
    "    double M = 1;\n",
    "    double A = 2;\n",
    "    double rho_0 = 2.32;\n",
    "    double P_0 = 200000;\n",
    "    double T_0 = 300;\n",
    "    double gamma = 1.4;\n",
    "    \n",
    "    Solvers::Gas::ExactSteadySolver SS(rho_0, P_0, T_0, M, A, gamma, Solvers::Gas::SolutionType::SUBSONIC);\n",
    "    \n",
    "    std::cout << SS.M(4.0702) << \"\\n\";\n",
    "}"
   ]
  },
  {
   "cell_type": "code",
   "execution_count": 11,
   "id": "5c335d01",
   "metadata": {},
   "outputs": [
    {
     "name": "stdout",
     "output_type": "stream",
     "text": [
      "Begin Steady Rocket Solver.\n",
      "\t— Input:\n",
      "\t\t• chamber Mach number at atmospheric pressure = 0.071913\n",
      "\t\t• adiabatic gas constant = 1.218878\n",
      "\t\t• gas constant = 160.000000 J/(kg·K)\n",
      "\t\t• power law exponent n = 0.325000\n",
      "\t\t• chamber temperature = 1423.681257 K\n",
      "\t— Chamber data:\n",
      "\t\t• chamber area = 0.001963 m²\n",
      "\t\t• chamber pressure = 101325.008203 Pa\n",
      "\t\t• chamber speed = 37.892452 m/s\n",
      "\t\t• chamber Mach number = 0.071913\n",
      "\t\t• chamber gas density = 0.444820 kg/m³\n",
      "\t— Exit data\n",
      "\t\t• exit area = 0.001963 m²\n",
      "\t\t• exit pressure = 101325.000000 Pa\n",
      "\t\t• exit temperature = 1423.681236 K\n",
      "\t\t• exit speed = 37.892939 m/s\n",
      "\t\t• exit Mach number = 0.071914\n",
      "\t\t• exit density = 0.444820 kg/m³\n",
      "\t\t• mass flow = 0.033096 kg/s\n",
      "\t\t• thrust = 1.254095 N\n",
      "End Steady Rocket Solver.\n"
     ]
    },
    {
     "data": {
      "text/plain": []
     },
     "execution_count": 11,
     "metadata": {},
     "output_type": "execute_result"
    }
   ],
   "source": [
    "{\n",
    "    double A_c = M_PI*0.025*0.025;\n",
    "    double A_e = A_c;\n",
    "    Solvers::Rocket::SteadySolver SS(1423.681257, 0.071912799, 0.325, 1.218878249, 160, A_c);\n",
    "    SS.solve_for_exit_area(A_e);\n",
    "    std::cout << SS.to_string() << \"\\n\";\n",
    "}"
   ]
  },
  {
   "cell_type": "code",
   "execution_count": 6,
   "id": "68478e8d",
   "metadata": {},
   "outputs": [
    {
     "name": "stdout",
     "output_type": "stream",
     "text": [
      "Begin Steady Rocket Solver.\n",
      "\t— Input:\n",
      "\t\t• chamber Mach number at atmospheric pressure = 0.071913\n",
      "\t\t• adiabatic gas constant = 1.218878\n",
      "\t\t• gas constant = 160.000000 J/(kg·K)\n",
      "\t\t• power law exponent n = 0.325000\n",
      "\t\t• chamber temperature = 1423.681257 K\n",
      "\t— Chamber data:\n",
      "\t\t• chamber area = 0.001963 m²\n",
      "\t\t• chamber pressure = 102296.122569 Pa\n",
      "\t\t• chamber speed = 37.649265 m/s\n",
      "\t\t• chamber Mach number = 0.071451\n",
      "\t\t• chamber gas density = 0.449083 kg/m³\n",
      "\t— Exit data\n",
      "\t\t• exit area = 0.000982 m²\n",
      "\t\t• exit pressure = 101325.000000 Pa\n",
      "\t\t• exit temperature = 1421.244750 K\n",
      "\t\t• exit speed = 75.890201 m/s\n",
      "\t\t• exit Mach number = 0.144149\n",
      "\t\t• exit density = 0.445582 kg/m³\n",
      "\t\t• mass flow = 0.033198 kg/s\n",
      "\t\t• thrust = 2.519411 N\n",
      "End Steady Rocket Solver.\n"
     ]
    },
    {
     "data": {
      "text/plain": []
     },
     "execution_count": 6,
     "metadata": {},
     "output_type": "execute_result"
    }
   ],
   "source": [
    "{\n",
    "    double A_c = M_PI*0.025*0.025;\n",
    "    double A_e = A_c/2;\n",
    "    Solvers::Rocket::SteadySolver SS(1423.681257, 0.071912799, 0.325, 1.218878249, 160, A_c);\n",
    "    SS.solve_for_exit_area(A_e);\n",
    "    std::cout << SS.to_string() << \"\\n\";\n",
    "}"
   ]
  },
  {
   "cell_type": "code",
   "execution_count": 7,
   "id": "5a76f5ee",
   "metadata": {},
   "outputs": [
    {
     "name": "stdout",
     "output_type": "stream",
     "text": [
      "Begin Steady Rocket Solver.\n",
      "\t— Input:\n",
      "\t\t• chamber Mach number at atmospheric pressure = 0.071913\n",
      "\t\t• adiabatic gas constant = 1.218878\n",
      "\t\t• gas constant = 160.000000 J/(kg·K)\n",
      "\t\t• power law exponent n = 0.325000\n",
      "\t\t• chamber temperature = 1423.681257 K\n",
      "\t— Chamber data:\n",
      "\t\t• chamber area = 0.001963 m²\n",
      "\t\t• chamber pressure = 180409.119315 Pa\n",
      "\t\t• chamber speed = 25.670656 m/s\n",
      "\t\t• chamber Mach number = 0.048718\n",
      "\t\t• chamber gas density = 0.792001 kg/m³\n",
      "\t— Exit data\n",
      "\t\t• exit area = 0.000162 m²\n",
      "\t\t• exit pressure = 101325.000000 Pa\n",
      "\t\t• exit temperature = 1283.577463 K\n",
      "\t\t• exit speed = 500.323839 m/s\n",
      "\t\t• exit Mach number = 1.000000\n",
      "\t\t• exit density = 0.493372 kg/m³\n",
      "\t\t• mass flow = 0.039920 kg/s\n",
      "\t\t• thrust = 19.973022 N\n",
      "End Steady Rocket Solver.\n"
     ]
    },
    {
     "data": {
      "text/plain": []
     },
     "execution_count": 7,
     "metadata": {},
     "output_type": "execute_result"
    }
   ],
   "source": [
    "{\n",
    "    double A_c = M_PI*0.025*0.025;\n",
    "    double A_e = A_c/2;\n",
    "    Solvers::Rocket::SteadySolver SS(1423.681257, 0.071912799, 0.325, 1.218878249, 160, A_c);\n",
    "    SS.calculate_optimum_parameters();\n",
    "    std::cout << SS.to_string() << \"\\n\";\n",
    "}"
   ]
  },
  {
   "cell_type": "code",
   "execution_count": 12,
   "id": "bdc9c979",
   "metadata": {},
   "outputs": [
    {
     "name": "stdout",
     "output_type": "stream",
     "text": [
      "Begin Steady Rocket Solver.\n",
      "\t— Input:\n",
      "\t\t• chamber Mach number at atmospheric pressure = 0.071913\n",
      "\t\t• adiabatic gas constant = 1.218878\n",
      "\t\t• gas constant = 160.000000 J/(kg·K)\n",
      "\t\t• power law exponent n = 0.325000\n",
      "\t\t• chamber temperature = 1423.681257 K\n",
      "\t— Chamber data:\n",
      "\t\t• chamber area = 0.007854 m²\n",
      "\t\t• chamber pressure = 101325.008203 Pa\n",
      "\t\t• chamber speed = 37.892452 m/s\n",
      "\t\t• chamber Mach number = 0.071913\n",
      "\t\t• chamber gas density = 0.444820 kg/m³\n",
      "\t— Exit data\n",
      "\t\t• exit area = 0.007854 m²\n",
      "\t\t• exit pressure = 101325.000000 Pa\n",
      "\t\t• exit temperature = 1423.681236 K\n",
      "\t\t• exit speed = 37.892939 m/s\n",
      "\t\t• exit Mach number = 0.071914\n",
      "\t\t• exit density = 0.444820 kg/m³\n",
      "\t\t• mass flow = 0.132383 kg/s\n",
      "\t\t• thrust = 5.016379 N\n",
      "End Steady Rocket Solver.\n"
     ]
    },
    {
     "data": {
      "text/plain": []
     },
     "execution_count": 12,
     "metadata": {},
     "output_type": "execute_result"
    }
   ],
   "source": [
    "{\n",
    "    double A_c = M_PI*0.05*0.05;\n",
    "    double A_e = A_c;\n",
    "    Solvers::Rocket::SteadySolver SS(1423.681257, 0.071912799, 0.325, 1.218878249, 160, A_c);\n",
    "    SS.solve_for_exit_area(A_e);\n",
    "    std::cout << SS.to_string() << \"\\n\";\n",
    "}"
   ]
  },
  {
   "cell_type": "code",
   "execution_count": 8,
   "id": "ca02ecd0",
   "metadata": {},
   "outputs": [
    {
     "name": "stdout",
     "output_type": "stream",
     "text": [
      "Begin Steady Rocket Solver.\n",
      "\t— Input:\n",
      "\t\t• chamber Mach number at atmospheric pressure = 0.071913\n",
      "\t\t• adiabatic gas constant = 1.218878\n",
      "\t\t• gas constant = 160.000000 J/(kg·K)\n",
      "\t\t• power law exponent n = 0.325000\n",
      "\t\t• chamber temperature = 1423.681257 K\n",
      "\t— Chamber data:\n",
      "\t\t• chamber area = 0.007854 m²\n",
      "\t\t• chamber pressure = 145129.156593 Pa\n",
      "\t\t• chamber speed = 29.732200 m/s\n",
      "\t\t• chamber Mach number = 0.056426\n",
      "\t\t• chamber gas density = 0.637121 kg/m³\n",
      "\t— Exit data\n",
      "\t\t• exit area = 0.000785 m²\n",
      "\t\t• exit pressure = 101325.000000 Pa\n",
      "\t\t• exit temperature = 1334.726848 K\n",
      "\t\t• exit speed = 399.250248 m/s\n",
      "\t\t• exit Mach number = 0.782544\n",
      "\t\t• exit density = 0.474465 kg/m³\n",
      "\t\t• mass flow = 0.148778 kg/s\n",
      "\t\t• thrust = 59.399734 N\n",
      "End Steady Rocket Solver.\n"
     ]
    },
    {
     "data": {
      "text/plain": []
     },
     "execution_count": 8,
     "metadata": {},
     "output_type": "execute_result"
    }
   ],
   "source": [
    "{\n",
    "    double A_c = M_PI*0.05*0.05;\n",
    "    double A_e = A_c/10;\n",
    "    Solvers::Rocket::SteadySolver SS(1423.681257, 0.071912799, 0.325, 1.218878249, 160, A_c);\n",
    "    SS.solve_for_exit_area(A_e);\n",
    "    std::cout << SS.to_string() << \"\\n\";\n",
    "}"
   ]
  },
  {
   "cell_type": "code",
   "execution_count": 9,
   "id": "80a93e6b",
   "metadata": {},
   "outputs": [
    {
     "name": "stdout",
     "output_type": "stream",
     "text": [
      "Begin Steady Rocket Solver.\n",
      "\t— Input:\n",
      "\t\t• chamber Mach number at atmospheric pressure = 0.071913\n",
      "\t\t• adiabatic gas constant = 1.218878\n",
      "\t\t• gas constant = 160.000000 J/(kg·K)\n",
      "\t\t• power law exponent n = 0.325000\n",
      "\t\t• chamber temperature = 1423.681257 K\n",
      "\t— Chamber data:\n",
      "\t\t• chamber area = 0.007854 m²\n",
      "\t\t• chamber pressure = 101008.078644 Pa\n",
      "\t\t• chamber speed = 37.972664 m/s\n",
      "\t\t• chamber Mach number = 0.072065\n",
      "\t\t• chamber gas density = 0.443428 kg/m³\n",
      "\t— Exit data\n",
      "\t\t• exit area = 0.078540 m²\n",
      "\t\t• exit pressure = 101325.000000 Pa\n",
      "\t\t• exit temperature = 1424.482367 K\n",
      "\t\t• exit speed = 3.787495 m/s\n",
      "\t\t• exit Mach number = 0.007186\n",
      "\t\t• exit density = 0.444569 kg/m³\n",
      "\t\t• mass flow = 0.132246 kg/s\n",
      "\t\t• thrust = 0.500880 N\n",
      "End Steady Rocket Solver.\n"
     ]
    },
    {
     "data": {
      "text/plain": []
     },
     "execution_count": 9,
     "metadata": {},
     "output_type": "execute_result"
    }
   ],
   "source": [
    "{\n",
    "    double A_c = M_PI*0.05*0.05;\n",
    "    double A_e = A_c*10;\n",
    "    Solvers::Rocket::SteadySolver SS(1423.681257, 0.071912799, 0.325, 1.218878249, 160, A_c);\n",
    "    SS.solve_for_exit_area(A_e);\n",
    "    std::cout << SS.to_string() << \"\\n\";\n",
    "}"
   ]
  },
  {
   "cell_type": "code",
   "execution_count": 10,
   "id": "cfe6a4b0",
   "metadata": {},
   "outputs": [
    {
     "name": "stdout",
     "output_type": "stream",
     "text": [
      "Begin Steady Rocket Solver.\n",
      "\t— Input:\n",
      "\t\t• chamber Mach number at atmospheric pressure = 0.071913\n",
      "\t\t• adiabatic gas constant = 1.218878\n",
      "\t\t• gas constant = 160.000000 J/(kg·K)\n",
      "\t\t• power law exponent n = 0.325000\n",
      "\t\t• chamber temperature = 1423.681257 K\n",
      "\t— Chamber data:\n",
      "\t\t• chamber area = 0.007854 m²\n",
      "\t\t• chamber pressure = 180409.119315 Pa\n",
      "\t\t• chamber speed = 25.670656 m/s\n",
      "\t\t• chamber Mach number = 0.048718\n",
      "\t\t• chamber gas density = 0.792001 kg/m³\n",
      "\t— Exit data\n",
      "\t\t• exit area = 0.000647 m²\n",
      "\t\t• exit pressure = 101325.000000 Pa\n",
      "\t\t• exit temperature = 1283.577463 K\n",
      "\t\t• exit speed = 500.323839 m/s\n",
      "\t\t• exit Mach number = 1.000000\n",
      "\t\t• exit density = 0.493372 kg/m³\n",
      "\t\t• mass flow = 0.159681 kg/s\n",
      "\t\t• thrust = 79.892090 N\n",
      "End Steady Rocket Solver.\n"
     ]
    },
    {
     "data": {
      "text/plain": []
     },
     "execution_count": 10,
     "metadata": {},
     "output_type": "execute_result"
    }
   ],
   "source": [
    "{\n",
    "    double A_c = M_PI*0.05*0.05;\n",
    "    double A_e = A_c/10;\n",
    "    Solvers::Rocket::SteadySolver SS(1423.681257, 0.071912799, 0.325, 1.218878249, 160, A_c);\n",
    "    SS.calculate_optimum_parameters();\n",
    "    std::cout << SS.to_string() << \"\\n\";\n",
    "}"
   ]
  },
  {
   "cell_type": "code",
   "execution_count": null,
   "id": "a35184d7",
   "metadata": {},
   "outputs": [],
   "source": []
  }
 ],
 "metadata": {
  "kernelspec": {
   "display_name": "C++14",
   "language": "C++",
   "name": "cling-cpp14"
  },
  "language_info": {
   "codemirror_mode": "c++",
   "file_extension": ".c++",
   "mimetype": "text/x-c++src",
   "name": "c++"
  }
 },
 "nbformat": 4,
 "nbformat_minor": 5
}
