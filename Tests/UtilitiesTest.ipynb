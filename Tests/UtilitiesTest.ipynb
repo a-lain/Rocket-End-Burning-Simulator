{
 "cells": [
  {
   "cell_type": "markdown",
   "id": "ba8c624e",
   "metadata": {},
   "source": [
    "Setting things up."
   ]
  },
  {
   "cell_type": "code",
   "execution_count": 1,
   "id": "d99a3c64",
   "metadata": {},
   "outputs": [
    {
     "data": {
      "text/plain": []
     },
     "execution_count": 1,
     "metadata": {},
     "output_type": "execute_result"
    }
   ],
   "source": [
    ".L ../Build/Combustion.so"
   ]
  },
  {
   "cell_type": "code",
   "execution_count": 2,
   "id": "2e0971be",
   "metadata": {},
   "outputs": [
    {
     "data": {
      "text/plain": []
     },
     "execution_count": 2,
     "metadata": {},
     "output_type": "execute_result"
    }
   ],
   "source": [
    "#include \"../Utilities/FileArray.hpp\"\n",
    "#include \"../Utilities/FormatNumber.hpp\"\n",
    "#include \"../Utilities/Progress.hpp\"\n",
    "#include <iostream>\n",
    "#include <thread>\n",
    "#include <chrono>"
   ]
  },
  {
   "cell_type": "code",
   "execution_count": 3,
   "id": "3fd01587",
   "metadata": {},
   "outputs": [
    {
     "data": {
      "text/plain": []
     },
     "execution_count": 3,
     "metadata": {},
     "output_type": "execute_result"
    }
   ],
   "source": [
    "using namespace Utilities;"
   ]
  },
  {
   "cell_type": "markdown",
   "id": "8364ffa1",
   "metadata": {},
   "source": [
    "<h3>FormatNumber</h3>"
   ]
  },
  {
   "cell_type": "markdown",
   "id": "920ec3ed",
   "metadata": {},
   "source": [
    "Most significant digit"
   ]
  },
  {
   "cell_type": "code",
   "execution_count": 4,
   "id": "c803bffd",
   "metadata": {},
   "outputs": [
    {
     "name": "stdout",
     "output_type": "stream",
     "text": [
      "-4\n",
      "-3\n",
      "-2\n",
      "-1\n",
      "0\n",
      "0\n",
      "0\n",
      "1\n",
      "2\n",
      "3\n"
     ]
    },
    {
     "data": {
      "text/plain": [
       "(std::basic_ostream<char, std::char_traits<char> > &) @0x7fe2b3ad9480\n"
      ]
     },
     "execution_count": 4,
     "metadata": {},
     "output_type": "execute_result"
    }
   ],
   "source": [
    "std::cout << position_of_most_significant_digit(-0.00018969856) << \"\\n\";\n",
    "std::cout << position_of_most_significant_digit(-0.003) << \"\\n\";\n",
    "std::cout << position_of_most_significant_digit(0.09) << \"\\n\";\n",
    "std::cout << position_of_most_significant_digit(0.15) << \"\\n\";\n",
    "std::cout << position_of_most_significant_digit(0) << \"\\n\";\n",
    "std::cout << position_of_most_significant_digit(1.5) << \"\\n\";\n",
    "std::cout << position_of_most_significant_digit(2.5) << \"\\n\";\n",
    "std::cout << position_of_most_significant_digit(25) << \"\\n\";\n",
    "std::cout << position_of_most_significant_digit(250.5) << \"\\n\";\n",
    "std::cout << position_of_most_significant_digit(2500.5) << \"\\n\";"
   ]
  },
  {
   "cell_type": "markdown",
   "id": "72a7fb98",
   "metadata": {},
   "source": [
    "We test the default function."
   ]
  },
  {
   "cell_type": "code",
   "execution_count": 5,
   "id": "563b1b11",
   "metadata": {},
   "outputs": [
    {
     "name": "stdout",
     "output_type": "stream",
     "text": [
      "10^(3)\n",
      "-10^(3)\n",
      "1.01*10^(3)\n",
      "-1.01*10^(3)\n",
      "100\n",
      "-100\n",
      "10.0\n",
      "-10.0\n",
      "1.00\n",
      "-1.00\n",
      "0.100\n",
      "-0.100\n",
      "0.0100\n",
      "-0.0100\n",
      "0.00100\n",
      "-0.00100\n",
      "0.00120\n",
      "-0.00120\n",
      "0.00\n",
      "57.9\n",
      "57.1\n",
      "-57.9\n",
      "-57.1\n",
      "3.95*10^(3)\n",
      "3.94*10^(3)\n",
      "-3.95*10^(3)\n",
      "-3.94*10^(3)\n"
     ]
    },
    {
     "data": {
      "text/plain": [
       "(std::basic_ostream<char, std::char_traits<char> > &) @0x7fe2b3ad9480\n"
      ]
     },
     "execution_count": 5,
     "metadata": {},
     "output_type": "execute_result"
    }
   ],
   "source": [
    "std::cout << format_number(1000, false) << \"\\n\";\n",
    "std::cout << format_number(-1000, false) << \"\\n\";\n",
    "std::cout << format_number(1010, false) << \"\\n\";\n",
    "std::cout << format_number(-1010, false) << \"\\n\";\n",
    "std::cout << format_number(100, false) << \"\\n\";\n",
    "std::cout << format_number(-100, false) << \"\\n\";\n",
    "std::cout << format_number(10, false) << \"\\n\";\n",
    "std::cout << format_number(-10, false) << \"\\n\";\n",
    "std::cout << format_number(1, false) << \"\\n\";\n",
    "std::cout << format_number(-1, false) << \"\\n\";\n",
    "std::cout << format_number(0.1, false) << \"\\n\";\n",
    "std::cout << format_number(-0.1, false) << \"\\n\";\n",
    "std::cout << format_number(0.01, false) << \"\\n\";\n",
    "std::cout << format_number(-0.01, false) << \"\\n\";\n",
    "std::cout << format_number(0.001, false) << \"\\n\";\n",
    "std::cout << format_number(-0.001, false) << \"\\n\";\n",
    "std::cout << format_number(0.0012, false) << \"\\n\";\n",
    "std::cout << format_number(-0.0012, false) << \"\\n\";\n",
    "std::cout << format_number(0, false) << \"\\n\";\n",
    "std::cout << format_number(57.8989, false) << \"\\n\";\n",
    "std::cout << format_number(57.12, false) << \"\\n\";\n",
    "std::cout << format_number(-57.8989, false) << \"\\n\";\n",
    "std::cout << format_number(-57.12, false) << \"\\n\";\n",
    "std::cout << format_number(3946.23894672383, false) << \"\\n\";\n",
    "std::cout << format_number(3944.23894672383, false) << \"\\n\";\n",
    "std::cout << format_number(-3946.23894672383, false) << \"\\n\";\n",
    "std::cout << format_number(-3944.23894672383, false) << \"\\n\";"
   ]
  },
  {
   "cell_type": "code",
   "execution_count": null,
   "id": "96fe93db",
   "metadata": {},
   "outputs": [],
   "source": []
  },
  {
   "cell_type": "code",
   "execution_count": 6,
   "id": "32555e86",
   "metadata": {},
   "outputs": [
    {
     "name": "stdout",
     "output_type": "stream",
     "text": [
      "+10^(3)\n",
      "-10^(3)\n",
      "+100\n",
      "-100\n",
      "+10.0\n",
      "-10.0\n",
      "+1.00\n",
      "-1.00\n",
      "+0.100\n",
      "-0.100\n",
      "+0.0100\n",
      "-0.0100\n",
      "+0.00100\n",
      "-0.00100\n",
      "0.00\n",
      "+57.9\n",
      "+57.1\n",
      "-57.9\n",
      "-57.1\n",
      "+3.95*10^(3)\n",
      "+3.94*10^(3)\n",
      "-3.95*10^(3)\n",
      "-3.94*10^(3)\n"
     ]
    },
    {
     "data": {
      "text/plain": [
       "(std::basic_ostream<char, std::char_traits<char> > &) @0x7fe2b3ad9480\n"
      ]
     },
     "execution_count": 6,
     "metadata": {},
     "output_type": "execute_result"
    }
   ],
   "source": [
    "std::cout << format_number(1000, false, 3, true) << \"\\n\";\n",
    "std::cout << format_number(-1000, false, 3, true) << \"\\n\";\n",
    "std::cout << format_number(100, false, 3, true) << \"\\n\";\n",
    "std::cout << format_number(-100, false, 3, true) << \"\\n\";\n",
    "std::cout << format_number(10, false, 3, true) << \"\\n\";\n",
    "std::cout << format_number(-10, false, 3, true) << \"\\n\";\n",
    "std::cout << format_number(1, false, 3, true) << \"\\n\";\n",
    "std::cout << format_number(-1, false, 3, true) << \"\\n\";\n",
    "std::cout << format_number(0.1, false, 3, true) << \"\\n\";\n",
    "std::cout << format_number(-0.1, false, 3, true) << \"\\n\";\n",
    "std::cout << format_number(0.01, false, 3, true) << \"\\n\";\n",
    "std::cout << format_number(-0.01, false, 3, true) << \"\\n\";\n",
    "std::cout << format_number(0.001, false, 3, true) << \"\\n\";\n",
    "std::cout << format_number(-0.001, false, 3, true) << \"\\n\";\n",
    "std::cout << format_number(0, false, 3, true) << \"\\n\";\n",
    "std::cout << format_number(57.8989, false, 3, true) << \"\\n\";\n",
    "std::cout << format_number(57.12, false, 3, true) << \"\\n\";\n",
    "std::cout << format_number(-57.8989, false, 3, true) << \"\\n\";\n",
    "std::cout << format_number(-57.12, false, 3, true) << \"\\n\";\n",
    "std::cout << format_number(3946.23894672383, false, 3, true) << \"\\n\";\n",
    "std::cout << format_number(3944.23894672383, false, 3, true) << \"\\n\";\n",
    "std::cout << format_number(-3946.23894672383, false, 3, true) << \"\\n\";\n",
    "std::cout << format_number(-3944.23894672383, false, 3, true) << \"\\n\";"
   ]
  },
  {
   "cell_type": "code",
   "execution_count": 7,
   "id": "c2574900",
   "metadata": {},
   "outputs": [
    {
     "name": "stdout",
     "output_type": "stream",
     "text": [
      "10^{3}\n",
      "-10^{3}\n",
      "100\n",
      "-100\n",
      "10.0\n",
      "-10.0\n",
      "1.00\n",
      "-1.00\n",
      "0.100\n",
      "-0.100\n",
      "0.0100\n",
      "-0.0100\n",
      "0.00100\n",
      "-0.00100\n",
      "0.00\n",
      "57.9\n",
      "57.1\n",
      "-57.9\n",
      "-57.1\n",
      "3.95\\cdot 10^{3}\n",
      "3.94\\cdot 10^{3}\n",
      "-3.95\\cdot 10^{3}\n",
      "-3.94\\cdot 10^{3}\n"
     ]
    },
    {
     "data": {
      "text/plain": [
       "(std::basic_ostream<char, std::char_traits<char> > &) @0x7fe2b3ad9480\n"
      ]
     },
     "execution_count": 7,
     "metadata": {},
     "output_type": "execute_result"
    }
   ],
   "source": [
    "std::cout << format_number(1000) << \"\\n\";\n",
    "std::cout << format_number(-1000) << \"\\n\";\n",
    "std::cout << format_number(100) << \"\\n\";\n",
    "std::cout << format_number(-100) << \"\\n\";\n",
    "std::cout << format_number(10) << \"\\n\";\n",
    "std::cout << format_number(-10) << \"\\n\";\n",
    "std::cout << format_number(1) << \"\\n\";\n",
    "std::cout << format_number(-1) << \"\\n\";\n",
    "std::cout << format_number(0.1) << \"\\n\";\n",
    "std::cout << format_number(-0.1) << \"\\n\";\n",
    "std::cout << format_number(0.01) << \"\\n\";\n",
    "std::cout << format_number(-0.01) << \"\\n\";\n",
    "std::cout << format_number(0.001) << \"\\n\";\n",
    "std::cout << format_number(-0.001) << \"\\n\";\n",
    "std::cout << format_number(0) << \"\\n\";\n",
    "std::cout << format_number(57.8989) << \"\\n\";\n",
    "std::cout << format_number(57.12) << \"\\n\";\n",
    "std::cout << format_number(-57.8989) << \"\\n\";\n",
    "std::cout << format_number(-57.12) << \"\\n\";\n",
    "std::cout << format_number(3946.23894672383) << \"\\n\";\n",
    "std::cout << format_number(3944.23894672383) << \"\\n\";\n",
    "std::cout << format_number(-3946.23894672383) << \"\\n\";\n",
    "std::cout << format_number(-3944.23894672383) << \"\\n\";"
   ]
  },
  {
   "cell_type": "code",
   "execution_count": 8,
   "id": "1ee7181f",
   "metadata": {},
   "outputs": [
    {
     "name": "stdout",
     "output_type": "stream",
     "text": [
      "+10^{3}\n",
      "-10^{3}\n",
      "+100\n",
      "-100\n",
      "+10.0\n",
      "-10.0\n",
      "+1.00\n",
      "-1.00\n",
      "+0.100\n",
      "-0.100\n",
      "+0.0100\n",
      "-0.0100\n",
      "+0.00100\n",
      "-0.00100\n",
      "0.00\n",
      "+57.9\n",
      "+57.1\n",
      "-57.9\n",
      "-57.1\n",
      "+3.95\\cdot 10^{3}\n",
      "+3.94\\cdot 10^{3}\n",
      "-3.95\\cdot 10^{3}\n",
      "-3.94\\cdot 10^{3}\n"
     ]
    },
    {
     "data": {
      "text/plain": [
       "(std::basic_ostream<char, std::char_traits<char> > &) @0x7fe2b3ad9480\n"
      ]
     },
     "execution_count": 8,
     "metadata": {},
     "output_type": "execute_result"
    }
   ],
   "source": [
    "std::cout << format_number(1000, true, 3, true) << \"\\n\";\n",
    "std::cout << format_number(-1000, true, 3, true) << \"\\n\";\n",
    "std::cout << format_number(100, true, 3, true) << \"\\n\";\n",
    "std::cout << format_number(-100, true, 3, true) << \"\\n\";\n",
    "std::cout << format_number(10, true, 3, true) << \"\\n\";\n",
    "std::cout << format_number(-10, true, 3, true) << \"\\n\";\n",
    "std::cout << format_number(1, true, 3, true) << \"\\n\";\n",
    "std::cout << format_number(-1, true, 3, true) << \"\\n\";\n",
    "std::cout << format_number(0.1, true, 3, true) << \"\\n\";\n",
    "std::cout << format_number(-0.1, true, 3, true) << \"\\n\";\n",
    "std::cout << format_number(0.01, true, 3, true) << \"\\n\";\n",
    "std::cout << format_number(-0.01, true, 3, true) << \"\\n\";\n",
    "std::cout << format_number(0.001, true, 3, true) << \"\\n\";\n",
    "std::cout << format_number(-0.001, true, 3, true) << \"\\n\";\n",
    "std::cout << format_number(0, true, 3, true) << \"\\n\";\n",
    "std::cout << format_number(57.8989, true, 3, true) << \"\\n\";\n",
    "std::cout << format_number(57.12, true, 3, true) << \"\\n\";\n",
    "std::cout << format_number(-57.8989, true, 3, true) << \"\\n\";\n",
    "std::cout << format_number(-57.12, true, 3, true) << \"\\n\";\n",
    "std::cout << format_number(3946.23894672383, true, 3, true) << \"\\n\";\n",
    "std::cout << format_number(3944.23894672383, true, 3, true) << \"\\n\";\n",
    "std::cout << format_number(-3946.23894672383, true, 3, true) << \"\\n\";\n",
    "std::cout << format_number(-3944.23894672383, true, 3, true) << \"\\n\";"
   ]
  },
  {
   "cell_type": "code",
   "execution_count": 9,
   "id": "ee97d4cc",
   "metadata": {},
   "outputs": [
    {
     "name": "stdout",
     "output_type": "stream",
     "text": [
      "0.123\n",
      "0.12\n",
      "0.1\n",
      "0\n"
     ]
    },
    {
     "data": {
      "text/plain": []
     },
     "execution_count": 9,
     "metadata": {},
     "output_type": "execute_result"
    }
   ],
   "source": [
    "{\n",
    "    std::cout << format_number(0.123, false, 3) << \"\\n\";\n",
    "    std::cout << format_number(0.123, false, 2) << \"\\n\";\n",
    "    std::cout << format_number(0.123, false, 1) << \"\\n\";\n",
    "    std::cout << format_number(0.123, false, 0) << \"\\n\";\n",
    "}"
   ]
  },
  {
   "cell_type": "code",
   "execution_count": 10,
   "id": "4833998e",
   "metadata": {},
   "outputs": [
    {
     "data": {
      "text/plain": [
       "(std::string) \"0\"\n"
      ]
     },
     "execution_count": 10,
     "metadata": {},
     "output_type": "execute_result"
    }
   ],
   "source": [
    "format_number(1e-12, false, 0)"
   ]
  },
  {
   "cell_type": "code",
   "execution_count": null,
   "id": "5f090b39",
   "metadata": {},
   "outputs": [],
   "source": []
  },
  {
   "cell_type": "markdown",
   "id": "337d598b",
   "metadata": {},
   "source": [
    "<h3> FileArray </h3>"
   ]
  },
  {
   "cell_type": "code",
   "execution_count": 4,
   "id": "4117b731",
   "metadata": {},
   "outputs": [
    {
     "name": "stdout",
     "output_type": "stream",
     "text": [
      "20\n",
      "/tmp/file2wqLP7"
     ]
    },
    {
     "data": {
      "text/plain": []
     },
     "execution_count": 4,
     "metadata": {},
     "output_type": "execute_result"
    }
   ],
   "source": [
    "{\n",
    "    std::cout << L_tmpnam << \"\\n\";\n",
    "    char buffer[50];\n",
    "    tmpnam(buffer);\n",
    "    std::cout << buffer;\n",
    "}"
   ]
  },
  {
   "cell_type": "code",
   "execution_count": 6,
   "id": "7628d968",
   "metadata": {},
   "outputs": [
    {
     "name": "stdout",
     "output_type": "stream",
     "text": [
      "N = 10\n",
      "0, -3, 0.5, 0.75, 1, 1.25, 1.5, 1.75, 375, 2.25, Writing N = 10\n"
     ]
    },
    {
     "data": {
      "text/plain": []
     },
     "execution_count": 6,
     "metadata": {},
     "output_type": "execute_result"
    }
   ],
   "source": [
    "{\n",
    "    FileArray<double> a(\"hola.dat\");\n",
    "    a.clear();\n",
    "    for (unsigned int i = 0; i < 10; ++i)\n",
    "    {\n",
    "        a.push_back(i/4.);\n",
    "    }\n",
    "    a[1] = -3;\n",
    "    a[8] = 375;\n",
    "    for (unsigned int i = 0; i < 10; ++i)\n",
    "    {\n",
    "        std::cout << a[i] << \", \";\n",
    "    }\n",
    "}"
   ]
  },
  {
   "cell_type": "code",
   "execution_count": 7,
   "id": "4fce0cb8",
   "metadata": {},
   "outputs": [
    {
     "name": "stdout",
     "output_type": "stream",
     "text": [
      "N = 10\n",
      "0, -3, 0.5, 0.75, 1, 1.25, 1.5, 1.75, 375, 2.25, Writing N = 10\n"
     ]
    },
    {
     "data": {
      "text/plain": []
     },
     "execution_count": 7,
     "metadata": {},
     "output_type": "execute_result"
    }
   ],
   "source": [
    "{\n",
    "    FileArray<double> a(\"hola.dat\");\n",
    "    for (unsigned int i = 0; i < a.size(); ++i)\n",
    "    {\n",
    "        std::cout << a[i] << \", \";\n",
    "    }\n",
    "}"
   ]
  },
  {
   "cell_type": "code",
   "execution_count": 5,
   "id": "c9463266",
   "metadata": {},
   "outputs": [
    {
     "name": "stdout",
     "output_type": "stream",
     "text": [
      "0, -3, 0.5, 0.75, 1, 1.25, 1.5, 1.75, 375, 2.25, "
     ]
    },
    {
     "data": {
      "text/plain": []
     },
     "execution_count": 5,
     "metadata": {},
     "output_type": "execute_result"
    }
   ],
   "source": [
    "{\n",
    "    FileArray<double> a;\n",
    "    for (unsigned int i = 0; i < 10; ++i)\n",
    "    {\n",
    "        a.push_back(i/4.);\n",
    "    }\n",
    "    a[1] = -3;\n",
    "    a[8] = 375;\n",
    "    for (unsigned int i = 0; i < 10; ++i)\n",
    "    {\n",
    "        std::cout << a[i] << \", \";\n",
    "    }\n",
    "}"
   ]
  },
  {
   "cell_type": "code",
   "execution_count": 6,
   "id": "7a052f17",
   "metadata": {
    "scrolled": true
   },
   "outputs": [
    {
     "data": {
      "text/plain": []
     },
     "execution_count": 6,
     "metadata": {},
     "output_type": "execute_result"
    }
   ],
   "source": [
    "{\n",
    "    FileArray<double> a(\"hola2.dat\", 0, false);\n",
    "    for (unsigned int i = 0; i < 1000000; ++i)\n",
    "    {\n",
    "        a.push_back(0);\n",
    "    }\n",
    "}"
   ]
  },
  {
   "cell_type": "code",
   "execution_count": null,
   "id": "be3ece65",
   "metadata": {},
   "outputs": [],
   "source": []
  },
  {
   "cell_type": "markdown",
   "id": "a6316a89",
   "metadata": {},
   "source": [
    "<h3> Progress </h3>"
   ]
  },
  {
   "cell_type": "code",
   "execution_count": 14,
   "id": "0235c5d4",
   "metadata": {},
   "outputs": [
    {
     "name": "stdout",
     "output_type": "stream",
     "text": [
      "Hola madre\n",
      "\r"
     ]
    },
    {
     "data": {
      "text/plain": []
     },
     "execution_count": 14,
     "metadata": {},
     "output_type": "execute_result"
    }
   ],
   "source": [
    "{\n",
    "    std::cout << \"Hola madre\\n\" << \"\\r\";\n",
    "}"
   ]
  },
  {
   "cell_type": "code",
   "execution_count": 15,
   "id": "6200262b",
   "metadata": {
    "scrolled": true
   },
   "outputs": [
    {
     "name": "stdout",
     "output_type": "stream",
     "text": [
      "• Prueba\n",
      "  STATUS: RUNNING\n",
      "  Starting time: Thu Aug 19 15:19:31 2021\n",
      "  Time active elapsed: 0d 00h 00m 00s\n",
      "\u001b[2K• Prueba\n",
      "  STATUS: RUNNING\n",
      "  Starting time: Thu Aug 19 15:19:31 2021\n",
      "  Time active elapsed: 0d 00h 00m 01s\n",
      "  Progress: 3/10    30.000000% complete\n",
      "  Speed: 3.000000 [steps / s]    30.000000 [% / s]\n",
      "  Estimated active time remaining: 0d 00h 00m 02s\n",
      "\u001b[2K• Prueba\n",
      "  STATUS: RUNNING\n",
      "  Starting time: Thu Aug 19 15:19:31 2021\n",
      "  Time active elapsed: 0d 00h 00m 02s\n",
      "  Progress: 4/10    40.000000% complete\n",
      "  Speed: 2.000000 [steps / s]    20.000000 [% / s]\n",
      "  Estimated active time remaining: 0d 00h 00m 03s\n",
      "\u001b[2K• Prueba\n",
      "  STATUS: RUNNING\n",
      "  Starting time: Thu Aug 19 15:19:31 2021\n",
      "  Time active elapsed: 0d 00h 00m 03s\n",
      "  Progress: 6/10    60.000000% complete\n",
      "  Speed: 2.000000 [steps / s]    20.000000 [% / s]\n",
      "  Estimated active time remaining: 0d 00h 00m 02s\n",
      "\u001b[2K• Prueba\n",
      "  STATUS: RUNNING\n",
      "  Starting time: Thu Aug 19 15:19:31 2021\n",
      "  Time active elapsed: 0d 00h 00m 04s\n",
      "  Progress: 8/10    80.000000% complete\n",
      "  Speed: 2.000000 [steps / s]    20.000000 [% / s]\n",
      "  Estimated active time remaining: 0d 00h 00m 01s\n",
      "\u001b[2K• Prueba\n",
      "  STATUS: RUNNING\n",
      "  Starting time: Thu Aug 19 15:19:31 2021\n",
      "  Time active elapsed: 0d 00h 00m 05s\n",
      "  Progress: 10/10    100.000000% complete\n",
      "  Speed: 2.000000 [steps / s]    20.000000 [% / s]\n",
      "  Estimated active time remaining: 0d 00h 00m 00s\n",
      "\u001b[2K• Prueba\n",
      "  STATUS: FINISHED\n",
      "  Starting time: Thu Aug 19 15:19:31 2021\n",
      "  Finishing time: Thu Aug 19 15:19:36 2021\n",
      "  Duration active time: 0d 00h 00m 05s\n"
     ]
    },
    {
     "data": {
      "text/plain": []
     },
     "execution_count": 15,
     "metadata": {},
     "output_type": "execute_result"
    }
   ],
   "source": [
    "{\n",
    "    Progress<unsigned int> progress(\"Prueba\", ProgressEstimation::LINEAR, 0, 10);\n",
    "    progress.start();\n",
    "    progress.update_to_terminal(1000);\n",
    "    for (unsigned int i = 0; i < 10; ++i)\n",
    "    {\n",
    "        progress = progress + 1;\n",
    "        std::this_thread::sleep_for(std::chrono::milliseconds(500));\n",
    "    }\n",
    "    progress.finish();    \n",
    "}"
   ]
  },
  {
   "cell_type": "code",
   "execution_count": 16,
   "id": "9b0eb542",
   "metadata": {},
   "outputs": [
    {
     "name": "stdout",
     "output_type": "stream",
     "text": [
      "• Prueba\n",
      "  STATUS: RUNNING\n",
      "  Starting time: Thu Aug 19 15:19:38 2021\n",
      "  Time elapsed: 0d 00h 00m 00s\n",
      "\u001b[2K• Prueba\n",
      "  STATUS: RUNNING\n",
      "  Starting time: Thu Aug 19 15:19:38 2021\n",
      "  Time elapsed: 0d 00h 00m 01s\n",
      "  Progress: 20.000000% complete\n",
      "  Speed: 20.000000 [% / s]\n",
      "  Estimated active time remaining: 0d 00h 00m 04s\n",
      "\u001b[2K• Prueba\n",
      "  STATUS: RUNNING\n",
      "  Starting time: Thu Aug 19 15:19:38 2021\n",
      "  Time elapsed: 0d 00h 00m 02s\n",
      "  Progress: 40.000000% complete\n",
      "  Speed: 20.000000 [% / s]\n",
      "  Estimated active time remaining: 0d 00h 00m 03s\n",
      "\u001b[2K• Prueba\n",
      "  STATUS: RUNNING\n",
      "  Starting time: Thu Aug 19 15:19:38 2021\n",
      "  Time elapsed: 0d 00h 00m 03s\n",
      "  Progress: 60.000000% complete\n",
      "  Speed: 20.000000 [% / s]\n",
      "  Estimated active time remaining: 0d 00h 00m 02s\n",
      "\u001b[2K• Prueba\n",
      "  STATUS: RUNNING\n",
      "  Starting time: Thu Aug 19 15:19:38 2021\n",
      "  Time elapsed: 0d 00h 00m 04s\n",
      "  Progress: 80.000000% complete\n",
      "  Speed: 20.000000 [% / s]\n",
      "  Estimated active time remaining: 0d 00h 00m 01s\n",
      "\u001b[2K• Prueba\n",
      "  STATUS: RUNNING\n",
      "  Starting time: Thu Aug 19 15:19:38 2021\n",
      "  Time elapsed: 0d 00h 00m 05s\n",
      "  Progress: 100.000000% complete\n",
      "  Speed: 20.000000 [% / s]\n",
      "  Estimated active time remaining: 0d 00h 00m 00s\n",
      "\u001b[2K• Prueba\n",
      "  STATUS: FINISHED\n",
      "  Starting time: Thu Aug 19 15:19:38 2021\n",
      "  Finishing time: Thu Aug 19 15:19:43 2021\n",
      "  Duration active time: 0d 00h 00m 05s\n"
     ]
    },
    {
     "data": {
      "text/plain": []
     },
     "execution_count": 16,
     "metadata": {},
     "output_type": "execute_result"
    }
   ],
   "source": [
    "{\n",
    "    Progress<double> progress(\"Prueba\", ProgressEstimation::LINEAR, 0, 10);\n",
    "    progress.start();\n",
    "    progress.update_to_terminal(1000);\n",
    "    for (unsigned int i = 0; i < 10; ++i)\n",
    "    {\n",
    "        progress = progress + 1;\n",
    "        std::this_thread::sleep_for(std::chrono::milliseconds(500));\n",
    "    }\n",
    "    progress.finish();    \n",
    "}"
   ]
  },
  {
   "cell_type": "code",
   "execution_count": null,
   "id": "5b8a41dd",
   "metadata": {},
   "outputs": [],
   "source": []
  },
  {
   "cell_type": "code",
   "execution_count": null,
   "id": "6674d47d",
   "metadata": {},
   "outputs": [],
   "source": []
  }
 ],
 "metadata": {
  "kernelspec": {
   "display_name": "C++14",
   "language": "C++",
   "name": "cling-cpp14"
  },
  "language_info": {
   "codemirror_mode": "c++",
   "file_extension": ".c++",
   "mimetype": "text/x-c++src",
   "name": "c++"
  }
 },
 "nbformat": 4,
 "nbformat_minor": 5
}
